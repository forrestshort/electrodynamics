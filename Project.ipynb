{
 "cells": [
  {
   "cell_type": "markdown",
   "id": "19282cd9",
   "metadata": {
    "colab_type": "text",
    "id": "view-in-github"
   },
   "source": [
    "# <a href=\"https://colab.research.google.com/github/forrestshort/electrodynamics/blob/master/Project.ipynb\" target=\"_parent\"><img src=\"https://colab.research.google.com/assets/colab-badge.svg\" alt=\"Open In Colab\"/></a>"
   ]
  },
  {
   "cell_type": "markdown",
   "id": "052fad58",
   "metadata": {
    "id": "TfAjak0-qO4X"
   },
   "source": [
    "#  Midterm Project\n",
    "\n",
    "Forrest Short\n",
    "\n",
    "## Helmholtz Coil\n",
    "\n",
    "This project is a visualization of the magnetic field produced by a Helmholtz coil\n",
    "\n"
   ]
  },
  {
   "cell_type": "code",
   "execution_count": null,
   "id": "55e47b79",
   "metadata": {},
   "outputs": [],
   "source": []
  },
  {
   "cell_type": "markdown",
   "id": "cP7zGK1PVPvZ",
   "metadata": {
    "id": "cP7zGK1PVPvZ"
   },
   "source": [
    "## Load Packages\n"
   ]
  },
  {
   "cell_type": "code",
   "execution_count": 78,
   "id": "407fb98b",
   "metadata": {},
   "outputs": [],
   "source": [
    "try:\n",
    "    # Import gmsh library for generating meshes.\n",
    "    import gmsh\n",
    "except ImportError:\n",
    "    # If it is not available, install it.  Then import it.\n",
    "    !wget \"https://fem-on-colab.github.io/releases/gmsh-install.sh\" -O \"/tmp/gmsh-install.sh\" && bash \"/tmp/gmsh-install.sh\"\n",
    "    import gmsh\n",
    "    \n",
    "try:\n",
    "    # Import FEniCSx libraries for finite element analysis.\n",
    "    import dolfinx\n",
    "except ImportError:\n",
    "    # If they are not found, install them.  Then import them.\n",
    "    !wget \"https://fem-on-colab.github.io/releases/fenicsx-install-real.sh\" -O \"/tmp/fenicsx-install.sh\" && bash \"/tmp/fenicsx-install.sh\"\n",
    "    import dolfinx\n",
    "    \n",
    "try:\n",
    "    # Import multiphenicsx, mainly for plotting.\n",
    "    import multiphenicsx\n",
    "except ImportError:\n",
    "    # If they are not found, install them.\n",
    "    !pip3 install \"multiphenicsx@git+https://github.com/multiphenics/multiphenicsx.git@8b97b4e\"\n",
    "    import multiphenicsx\n",
    "    \n",
    "import dolfinx.fem\n",
    "import dolfinx.io\n",
    "import gmsh\n",
    "import mpi4py.MPI\n",
    "import numpy as np\n",
    "import petsc4py.PETSc\n",
    "import ufl\n",
    "from dolfinx.io import gmshio\n",
    "#import multiphenicsx.fem\n",
    "import multiphenicsx.io"
   ]
  },
  {
   "cell_type": "markdown",
   "id": "ad3ff301",
   "metadata": {},
   "source": [
    "## Simulation Inputs\n"
   ]
  },
  {
   "cell_type": "code",
   "execution_count": 79,
   "id": "384229ca",
   "metadata": {},
   "outputs": [],
   "source": [
    "# Mesh Dimension\n",
    "dim = 2\n",
    "\n",
    "# Radius of background disk\n",
    "r_background = 5\n",
    "\n",
    "# µ background \n",
    "mu_background = 1\n",
    "\n",
    "# µ wires\n",
    "mu_wire = 6\n",
    "\n",
    "# Radius of Coils\n",
    "r_wire = 0.1\n",
    "r_helm = 0.12\n",
    "\n",
    "# Number of Coils.\n",
    "N = 4\n",
    "\n",
    "# Current density in each coil.\n",
    "J0 = 5"
   ]
  },
  {
   "cell_type": "markdown",
   "id": "37175628",
   "metadata": {},
   "source": [
    "## Helmholtz Coil"
   ]
  },
  {
   "cell_type": "code",
   "execution_count": 80,
   "id": "2a16526e",
   "metadata": {},
   "outputs": [
    {
     "name": "stdout",
     "output_type": "stream",
     "text": [
      "Info    : Meshing 1D...\n",
      "Info    : [  0%] Meshing curve 1 (Ellipse)\n",
      "Info    : [ 20%] Meshing curve 2 (Ellipse)\n",
      "Info    : [ 40%] Meshing curve 3 (Ellipse)\n",
      "Info    : [ 60%] Meshing curve 4 (Ellipse)\n",
      "Info    : [ 80%] Meshing curve 5 (Ellipse)\n",
      "Info    : Done meshing 1D (Wall 0.00140558s, CPU 0.002107s)\n",
      "Info    : Meshing 2D...\n",
      "Info    : [  0%] Meshing surface 2 (Plane, Bamg)\n",
      "Info    : [  0%] BAMG succeeded 22 vertices 29 triangles\n",
      "Info    : [  0%] BAMG succeeded 22 vertices 29 triangles\n",
      "Info    : [ 20%] Meshing surface 3 (Plane, Bamg)\n",
      "Info    : [ 20%] BAMG succeeded 22 vertices 29 triangles\n",
      "Info    : [ 20%] BAMG succeeded 22 vertices 29 triangles\n",
      "Info    : [ 40%] Meshing surface 4 (Plane, Bamg)\n",
      "Info    : [ 40%] BAMG succeeded 21 vertices 27 triangles\n",
      "Info    : [ 40%] BAMG succeeded 21 vertices 27 triangles\n",
      "Info    : [ 60%] Meshing surface 5 (Plane, Bamg)\n",
      "Info    : [ 60%] BAMG succeeded 22 vertices 29 triangles\n",
      "Info    : [ 60%] BAMG succeeded 22 vertices 29 triangles\n",
      "Info    : [ 80%] Meshing surface 6 (Plane, Bamg)\n",
      "Info    : [ 80%] BAMG succeeded 1103 vertices 2097 triangles\n",
      "Info    : [ 80%] BAMG succeeded 1099 vertices 2089 triangles\n",
      "Info    : Done meshing 2D (Wall 0.294323s, CPU 0.276154s)\n",
      "Info    : 1134 nodes 2323 elements\n"
     ]
    }
   ],
   "source": [
    "# Create a model.\n",
    "gmsh.initialize()\n",
    "gmsh.model.add(\"mesh\")\n",
    "\n",
    "inner_tag = 2\n",
    "outer_tag = 2 + N\n",
    "background_surfaces = []\n",
    "other_surfaces = []\n",
    "\n",
    "\n",
    "# Define the system: a large disk.\n",
    "background = gmsh.model.occ.addDisk(0, 0, 0, r_background, r_background)\n",
    "gmsh.model.occ.synchronize()\n",
    "\n",
    "\n",
    "wires_in = []\n",
    "wires_out = []\n",
    "\n",
    "wires_out.append( (2, gmsh.model.occ.addDisk( 1, -0.5, 0, r_wire, r_wire)) )\n",
    "wires_out.append( (2, gmsh.model.occ.addDisk( 1,  0.5, 0, r_wire, r_wire)) )\n",
    "\n",
    "wires_in.append( (2, gmsh.model.occ.addDisk(-1, -0.5, 0, r_wire, r_wire)) )\n",
    "wires_in.append( (2, gmsh.model.occ.addDisk(-1,  0.5, 0, r_wire, r_wire)) )\n",
    "\n",
    "# Update the model.\n",
    "gmsh.model.occ.synchronize()\n",
    "\n",
    "# Resolve the boundaries of the wires and ring in the background domain.\n",
    "\n",
    "all_surfaces = []\n",
    "all_surfaces.extend(wires_in)\n",
    "all_surfaces.extend(wires_out)\n",
    "whole_domain = gmsh.model.occ.fragment([(2, background)], all_surfaces)\n",
    "\n",
    "gmsh.model.occ.synchronize()\n",
    "\n",
    "\n",
    "\n",
    "for domain in whole_domain[0]:\n",
    "    center = gmsh.model.occ.getCenterOfMass(domain[0], domain[1])\n",
    "    mass = gmsh.model.occ.getMass(domain[0], domain[1])\n",
    "\n",
    "    \n",
    "    # Identify the background circle by its center of mass\n",
    "    if np.allclose(center, [0, 0, 0]):\n",
    "        background_surfaces.append(domain[1])\n",
    "\n",
    "    # Identify the inner wires by their centers of mass.\n",
    "    elif np.isclose(center[0], -1):\n",
    "        gmsh.model.addPhysicalGroup(domain[0], [domain[1]], inner_tag)\n",
    "        inner_tag +=1\n",
    "        other_surfaces.append(domain)\n",
    "\n",
    "\n",
    "    # Identify the outer wires by their center of mass.\n",
    "    elif np.isclose(center[0], +1):\n",
    "        gmsh.model.addPhysicalGroup(domain[0], [domain[1]], outer_tag)\n",
    "        outer_tag +=1\n",
    "        other_surfaces.append(domain)\n",
    "\n",
    "\n",
    "# Add marker for the vacuum.\n",
    "gmsh.model.addPhysicalGroup(2, background_surfaces, tag=0)\n",
    "\n",
    "# Create mesh resolution that is fine around the wires and\n",
    "# make the grid coarse further away from the ring.\n",
    "gmsh.model.mesh.field.add(\"Distance\", 1)\n",
    "edges = gmsh.model.getBoundary(other_surfaces, oriented=False)\n",
    "gmsh.model.mesh.field.setNumbers(1, \"EdgesList\", [e[1] for e in edges])\n",
    "gmsh.model.mesh.field.add(\"Threshold\", 2)\n",
    "gmsh.model.mesh.field.setNumber(2, \"IField\", 1)\n",
    "gmsh.model.mesh.field.setNumber(2, \"LcMin\", r_wire / 2)\n",
    "gmsh.model.mesh.field.setNumber(2, \"LcMax\", 5 * r_wire)\n",
    "gmsh.model.mesh.field.setNumber(2, \"DistMin\", 2 * r_wire)\n",
    "gmsh.model.mesh.field.setNumber(2, \"DistMax\", 4 * r_wire)\n",
    "gmsh.model.mesh.field.setAsBackgroundMesh(2)\n",
    "gmsh.option.setNumber(\"Mesh.Algorithm\", 7)\n",
    "\n",
    "# Create a mesh for this system.\n",
    "gmsh.model.mesh.generate(dim)\n",
    "\n",
    "# Bring the mesh into FEniCSx.\n",
    "mesh, subdomains, boundaries = dolfinx.io.gmshio.model_to_mesh(\n",
    "    gmsh.model, comm=mpi4py.MPI.COMM_WORLD, rank=0, gdim=2)\n",
    "\n",
    "gmsh.finalize()\n",
    "\n",
    "# This loop will assign material properties to each cell in our model.\n",
    "# In this case, it is the relative magnetic permeability and current density.\n",
    "\n",
    "# Define a simple function space for properties.\n",
    "Q = dolfinx.fem.FunctionSpace(mesh, (\"DG\", 0))\n",
    "\n",
    "# Get the list of materials.\n",
    "material_tags = np.unique(subdomains.values)\n",
    "\n",
    "# Define functions for current density and magnetic permeability.\n",
    "mu = dolfinx.fem.Function(Q)\n",
    "J = dolfinx.fem.Function(Q)\n",
    "\n",
    "# Only some regions carry current. Initialize all current densities to zero.\n",
    "J.x.array[:] = 0.0\n",
    "\n",
    "# Now, cycle over all objects and assign material properties. \n",
    "for tag in material_tags:\n",
    "    cells = subdomains.find(tag)\n",
    "    \n",
    "    # Set values for magnetic permeability.\n",
    "    if tag == 0:\n",
    "        # Vacuum\n",
    "        mu_ = mu_background\n",
    "    elif tag == 1:\n",
    "        # Ring\n",
    "        mu_ = mu_ring\n",
    "    else:\n",
    "        # Wire\n",
    "        mu_ = mu_wire\n",
    "\n",
    "    mu.x.array[cells] = np.full_like(cells, mu_, dtype=petsc4py.PETSc.ScalarType)\n",
    "    \n",
    "    # Set nonzero current densities.\n",
    "    if tag in range(2, 2+N):\n",
    "        J.x.array[cells] = np.full_like(cells, J0, dtype=petsc4py.PETSc.ScalarType)\n",
    "    elif tag in range(2+N, 2*N + 2):\n",
    "        J.x.array[cells] = np.full_like(cells, -J0, dtype=petsc4py.PETSc.ScalarType)\n",
    "        \n",
    "## Set up the finite element problem.\n",
    "\n",
    "# Define trial and test functions.\n",
    "V = dolfinx.fem.FunctionSpace(mesh, (\"Lagrange\", 2))\n",
    "\n",
    "# Define the trial and test functions.\n",
    "u = ufl.TrialFunction(V)\n",
    "v = ufl.TestFunction(V)\n",
    "\n",
    "# Create a function to store the solution.\n",
    "# This is the vector potential.  A_x = A_y = 0.\n",
    "A_z = dolfinx.fem.Function(V)\n",
    "\n",
    "# Identify the domain and boundary.\n",
    "D = mesh.topology.dim\n",
    "Omega = dolfinx.mesh.locate_entities_boundary(mesh, D-1, lambda x: np.full(x.shape[1], True))\n",
    "dOmega = dolfinx.fem.locate_dofs_topological(V, D-1, Omega)\n",
    "\n",
    "# Force the potential to vanish on the boundary.\n",
    "bc = dolfinx.fem.dirichletbc(petsc4py.PETSc.ScalarType(0), dOmega, V)\n",
    "\n",
    "# Define the Poisson equation we are trying to solve.\n",
    "a = (1 / mu) * ufl.inner(ufl.grad(u), ufl.grad(v)) * ufl.dx\n",
    "L = 4 * ufl.pi * J * v * ufl.dx\n",
    "\n",
    "# Define the problem.\n",
    "problem = dolfinx.fem.petsc.LinearProblem(a, L, u=A_z, bcs=[bc])\n",
    "\n",
    "# Solve the problem.\n",
    "problem.solve()\n",
    "\n",
    "\n",
    "# Compute the magnetic field.\n",
    "W = dolfinx.fem.VectorFunctionSpace(mesh, (\"CG\", 2))\n",
    "B = dolfinx.fem.Function(W)\n",
    "B_expr = dolfinx.fem.Expression(ufl.as_vector((A_z.dx(1), -A_z.dx(0))), W.element.interpolation_points())\n",
    "B.interpolate(B_expr)"
   ]
  },
  {
   "cell_type": "code",
   "execution_count": 81,
   "id": "1cb8a917",
   "metadata": {},
   "outputs": [
    {
     "data": {
      "application/vnd.jupyter.widget-view+json": {
       "model_id": "06fcddae5cc7478cbe40dffef9ae584c",
       "version_major": 2,
       "version_minor": 0
      },
      "text/plain": [
       "ViewInteractiveWidget(height=768, layout=Layout(height='auto', width='100%'), width=1024)"
      ]
     },
     "metadata": {},
     "output_type": "display_data"
    }
   ],
   "source": [
    "# Helmholtz\n",
    "multiphenicsx.io.plot_scalar_field(A_z,\"Vector Potential\", warp_factor=1)\n"
   ]
  },
  {
   "cell_type": "code",
   "execution_count": 82,
   "id": "658c45b4",
   "metadata": {},
   "outputs": [
    {
     "data": {
      "application/vnd.jupyter.widget-view+json": {
       "model_id": "04bccd65a23245a493bfedb1064da091",
       "version_major": 2,
       "version_minor": 0
      },
      "text/plain": [
       "ViewInteractiveWidget(height=768, layout=Layout(height='auto', width='100%'), width=1024)"
      ]
     },
     "metadata": {},
     "output_type": "display_data"
    }
   ],
   "source": [
    "multiphenicsx.io.plot_vector_field(B,\"Magnetic Field\", glyph_factor=0.1)"
   ]
  },
  {
   "cell_type": "markdown",
   "id": "5bc93ea2",
   "metadata": {},
   "source": [
    "## 3 Coils"
   ]
  },
  {
   "cell_type": "code",
   "execution_count": 83,
   "id": "31e5f64f",
   "metadata": {},
   "outputs": [
    {
     "name": "stdout",
     "output_type": "stream",
     "text": [
      "Info    : Meshing 1D...\n",
      "Info    : [  0%] Meshing curve 1 (Ellipse)\n",
      "Info    : [ 20%] Meshing curve 2 (Ellipse)\n",
      "Info    : [ 30%] Meshing curve 3 (Ellipse)\n",
      "Info    : [ 50%] Meshing curve 4 (Ellipse)\n",
      "Info    : [ 60%] Meshing curve 5 (Ellipse)\n",
      "Info    : [ 80%] Meshing curve 6 (Ellipse)\n",
      "Info    : [ 90%] Meshing curve 7 (Ellipse)\n",
      "Info    : Done meshing 1D (Wall 0.00121213s, CPU 0.001356s)\n",
      "Info    : Meshing 2D...\n",
      "Info    : [  0%] Meshing surface 2 (Plane, Bamg)\n",
      "Info    : [  0%] BAMG succeeded 22 vertices 29 triangles\n",
      "Info    : [  0%] BAMG succeeded 22 vertices 29 triangles\n",
      "Info    : [ 20%] Meshing surface 3 (Plane, Bamg)\n",
      "Info    : [ 20%] BAMG succeeded 31 vertices 44 triangles\n",
      "Info    : [ 20%] BAMG succeeded 31 vertices 44 triangles\n",
      "Info    : [ 30%] Meshing surface 4 (Plane, Bamg)\n",
      "Info    : [ 30%] BAMG succeeded 22 vertices 29 triangles\n",
      "Info    : [ 30%] BAMG succeeded 22 vertices 29 triangles\n",
      "Info    : [ 50%] Meshing surface 5 (Plane, Bamg)\n",
      "Info    : [ 50%] BAMG succeeded 22 vertices 29 triangles\n",
      "Info    : [ 50%] BAMG succeeded 22 vertices 29 triangles\n",
      "Info    : [ 60%] Meshing surface 6 (Plane, Bamg)\n",
      "Info    : [ 60%] BAMG succeeded 34 vertices 50 triangles\n",
      "Info    : [ 60%] BAMG succeeded 32 vertices 46 triangles\n",
      "Info    : [ 60%] BAMG succeeded 32 vertices 46 triangles\n",
      "Info    : [ 80%] Meshing surface 7 (Plane, Bamg)\n",
      "Info    : [ 80%] BAMG succeeded 22 vertices 29 triangles\n",
      "Info    : [ 80%] BAMG succeeded 22 vertices 29 triangles\n",
      "Info    : [ 90%] Meshing surface 8 (Plane, Bamg)\n",
      "Info    : [ 90%] BAMG succeeded 1302 vertices 2467 triangles\n",
      "Info    : [ 90%] BAMG succeeded 1296 vertices 2455 triangles\n",
      "Info    : Done meshing 2D (Wall 0.396477s, CPU 0.362411s)\n",
      "Info    : 1363 nodes 2815 elements\n"
     ]
    }
   ],
   "source": [
    "# Create a model.\n",
    "gmsh.initialize()\n",
    "gmsh.model.add(\"mesh\")\n",
    "\n",
    "# Define the system: a large disk.\n",
    "background = gmsh.model.occ.addDisk(0, 0, 0, r_background, r_background)\n",
    "gmsh.model.occ.synchronize()\n",
    "\n",
    "\n",
    "wires_in = []\n",
    "wires_out = []\n",
    "\n",
    "wires_out.append( (2, gmsh.model.occ.addDisk( 1, -0.5, 0, r_wire, r_wire)) )\n",
    "wires_out.append( (2, gmsh.model.occ.addDisk( 1,  0, 0, r_helm, r_helm)) )\n",
    "wires_out.append( (2, gmsh.model.occ.addDisk( 1,  0.5, 0, r_wire, r_wire)) )\n",
    "\n",
    "wires_in.append( (2, gmsh.model.occ.addDisk(-1, -0.5, 0, r_wire, r_wire)) )\n",
    "wires_in.append( (2, gmsh.model.occ.addDisk(-1,  0, 0, r_helm, r_helm)) )\n",
    "wires_in.append( (2, gmsh.model.occ.addDisk(-1,  0.5, 0, r_wire, r_wire)) )\n",
    "\n",
    "# Update the model.\n",
    "gmsh.model.occ.synchronize()\n",
    "\n",
    "# Resolve the boundaries of the wires and ring in the background domain.\n",
    "\n",
    "all_surfaces = []\n",
    "all_surfaces.extend(wires_in)\n",
    "all_surfaces.extend(wires_out)\n",
    "whole_domain = gmsh.model.occ.fragment([(2, background)], all_surfaces)\n",
    "\n",
    "# Update the model.\n",
    "gmsh.model.occ.synchronize()\n",
    "\n",
    "# Create physical markers for each object.\n",
    "# Use the following markers:\n",
    "# - Vacuum: 0\n",
    "# - Ring: 1\n",
    "# - Inner wires: $[2,3,\\dots,N+1]$\n",
    "# - Outer wires: $[N+2,\\dots, 2\\cdot N+1]$\n",
    "inner_tag = 2\n",
    "outer_tag = 2 + N\n",
    "background_surfaces = []\n",
    "other_surfaces = []\n",
    "\n",
    "# Gmsh can compute the mass of objects and the location of their\n",
    "# centers of mass.  This loop uses these properties to determine\n",
    "# which object to associate grid points with.\n",
    "# \n",
    "# We will use these tags to define material properties later.\n",
    "for domain in whole_domain[0]:\n",
    "    center = gmsh.model.occ.getCenterOfMass(domain[0], domain[1])\n",
    "    mass = gmsh.model.occ.getMass(domain[0], domain[1])\n",
    "\n",
    "    \n",
    "    # Identify the background circle by its center of mass\n",
    "    if np.allclose(center, [0, 0, 0]):\n",
    "        background_surfaces.append(domain[1])\n",
    "\n",
    "    # Identify the inner wires by their centers of mass.\n",
    "    elif np.isclose(center[0], -1):\n",
    "        gmsh.model.addPhysicalGroup(domain[0], [domain[1]], inner_tag)\n",
    "        inner_tag +=1\n",
    "        other_surfaces.append(domain)\n",
    "\n",
    "    elif np.isclose(center[0], -1.2):\n",
    "        gmsh.model.addPhysicalGroup(domain[0], [domain[1]], inner_tag)\n",
    "        inner_tag +=1\n",
    "        other_surfaces.append(domain)\n",
    "\n",
    "    # Identify the outer wires by their center of mass.\n",
    "    elif np.isclose(center[0], +1):\n",
    "        gmsh.model.addPhysicalGroup(domain[0], [domain[1]], outer_tag)\n",
    "        outer_tag +=1\n",
    "        other_surfaces.append(domain)\n",
    "\n",
    "    elif np.isclose(center[0], +1.2):\n",
    "        gmsh.model.addPhysicalGroup(domain[0], [domain[1]], outer_tag)\n",
    "        outer_tag +=1\n",
    "        other_surfaces.append(domain)\n",
    "\n",
    "# Add marker for the vacuum.\n",
    "gmsh.model.addPhysicalGroup(2, background_surfaces, tag=0)\n",
    "\n",
    "# Create mesh resolution that is fine around the wires and\n",
    "# make the grid coarse further away from the ring.\n",
    "gmsh.model.mesh.field.add(\"Distance\", 1)\n",
    "edges = gmsh.model.getBoundary(other_surfaces, oriented=False)\n",
    "gmsh.model.mesh.field.setNumbers(1, \"EdgesList\", [e[1] for e in edges])\n",
    "gmsh.model.mesh.field.add(\"Threshold\", 2)\n",
    "gmsh.model.mesh.field.setNumber(2, \"IField\", 1)\n",
    "gmsh.model.mesh.field.setNumber(2, \"LcMin\", r_wire / 2)\n",
    "gmsh.model.mesh.field.setNumber(2, \"LcMax\", 5 * r_wire)\n",
    "gmsh.model.mesh.field.setNumber(2, \"DistMin\", 2 * r_wire)\n",
    "gmsh.model.mesh.field.setNumber(2, \"DistMax\", 4 * r_wire)\n",
    "gmsh.model.mesh.field.setAsBackgroundMesh(2)\n",
    "gmsh.option.setNumber(\"Mesh.Algorithm\", 7)\n",
    "\n",
    "# Create a mesh for this system.\n",
    "gmsh.model.mesh.generate(dim)\n",
    "\n",
    "# Bring the mesh into FEniCSx.\n",
    "mesh, subdomains, boundaries = dolfinx.io.gmshio.model_to_mesh(\n",
    "    gmsh.model, comm=mpi4py.MPI.COMM_WORLD, rank=0, gdim=2)\n",
    "\n",
    "gmsh.finalize()\n",
    "\n",
    "# This loop will assign material properties to each cell in our model.\n",
    "# In this case, it is the relative magnetic permeability and current density.\n",
    "\n",
    "# Define a simple function space for properties.\n",
    "Q = dolfinx.fem.FunctionSpace(mesh, (\"DG\", 0))\n",
    "\n",
    "# Get the list of materials.\n",
    "material_tags = np.unique(subdomains.values)\n",
    "\n",
    "# Define functions for current density and magnetic permeability.\n",
    "mu = dolfinx.fem.Function(Q)\n",
    "J = dolfinx.fem.Function(Q)\n",
    "\n",
    "# Only some regions carry current. Initialize all current densities to zero.\n",
    "J.x.array[:] = 0.0\n",
    "\n",
    "# Now, cycle over all objects and assign material properties. \n",
    "for tag in material_tags:\n",
    "    cells = subdomains.find(tag)\n",
    "    \n",
    "    # Set values for magnetic permeability.\n",
    "    if tag == 0:\n",
    "        # Vacuum\n",
    "        mu_ = mu_background\n",
    "    elif tag == 1:\n",
    "        # Ring\n",
    "        mu_ = mu_ring\n",
    "    else:\n",
    "        # Wire\n",
    "        mu_ = mu_wire\n",
    "\n",
    "    mu.x.array[cells] = np.full_like(cells, mu_, dtype=petsc4py.PETSc.ScalarType)\n",
    "    \n",
    "    # Set nonzero current densities.\n",
    "    if tag in range(2, 2+N):\n",
    "        J.x.array[cells] = np.full_like(cells, J0, dtype=petsc4py.PETSc.ScalarType)\n",
    "    elif tag in range(2+N, 2*N + 2):\n",
    "        J.x.array[cells] = np.full_like(cells, -J0, dtype=petsc4py.PETSc.ScalarType)\n",
    "        \n",
    "## Set up the finite element problem.\n",
    "\n",
    "# Define trial and test functions.\n",
    "V = dolfinx.fem.FunctionSpace(mesh, (\"Lagrange\", 2))\n",
    "\n",
    "# Define the trial and test functions.\n",
    "u = ufl.TrialFunction(V)\n",
    "v = ufl.TestFunction(V)\n",
    "\n",
    "# Create a function to store the solution.\n",
    "# This is the vector potential.  A_x = A_y = 0.\n",
    "A_z = dolfinx.fem.Function(V)\n",
    "\n",
    "# Identify the domain and boundary.\n",
    "D = mesh.topology.dim\n",
    "Omega = dolfinx.mesh.locate_entities_boundary(mesh, D-1, lambda x: np.full(x.shape[1], True))\n",
    "dOmega = dolfinx.fem.locate_dofs_topological(V, D-1, Omega)\n",
    "\n",
    "# Force the potential to vanish on the boundary.\n",
    "bc = dolfinx.fem.dirichletbc(petsc4py.PETSc.ScalarType(0), dOmega, V)\n",
    "\n",
    "# Define the Poisson equation we are trying to solve.\n",
    "a = (1 / mu) * ufl.inner(ufl.grad(u), ufl.grad(v)) * ufl.dx\n",
    "L = 4 * ufl.pi * J * v * ufl.dx\n",
    "\n",
    "# Define the problem.\n",
    "problem = dolfinx.fem.petsc.LinearProblem(a, L, u=A_z, bcs=[bc])\n",
    "\n",
    "# Solve the problem.\n",
    "problem.solve()\n",
    "\n",
    "\n",
    "# Compute the magnetic field.\n",
    "W = dolfinx.fem.VectorFunctionSpace(mesh, (\"CG\", 2))\n",
    "B = dolfinx.fem.Function(W)\n",
    "B_expr = dolfinx.fem.Expression(ufl.as_vector((A_z.dx(1), -A_z.dx(0))), W.element.interpolation_points())\n",
    "B.interpolate(B_expr)"
   ]
  },
  {
   "cell_type": "code",
   "execution_count": 84,
   "id": "3d587d47",
   "metadata": {},
   "outputs": [
    {
     "data": {
      "application/vnd.jupyter.widget-view+json": {
       "model_id": "61c1953612e340e7a0dea86bf9f38c31",
       "version_major": 2,
       "version_minor": 0
      },
      "text/plain": [
       "ViewInteractiveWidget(height=768, layout=Layout(height='auto', width='100%'), width=1024)"
      ]
     },
     "metadata": {},
     "output_type": "display_data"
    }
   ],
   "source": [
    "# 3 Coils\n",
    "multiphenicsx.io.plot_scalar_field(A_z,\"Vector Potential\", warp_factor=1)\n"
   ]
  },
  {
   "cell_type": "code",
   "execution_count": 85,
   "id": "b69731fc",
   "metadata": {},
   "outputs": [
    {
     "data": {
      "application/vnd.jupyter.widget-view+json": {
       "model_id": "9e36aab744354f2384dad6cf1c423136",
       "version_major": 2,
       "version_minor": 0
      },
      "text/plain": [
       "ViewInteractiveWidget(height=768, layout=Layout(height='auto', width='100%'), width=1024)"
      ]
     },
     "metadata": {},
     "output_type": "display_data"
    }
   ],
   "source": [
    "multiphenicsx.io.plot_vector_field(B,\"Magnetic Field\", glyph_factor=0.1)"
   ]
  },
  {
   "cell_type": "markdown",
   "id": "24203265",
   "metadata": {},
   "source": [
    "## Maxwell Coil"
   ]
  },
  {
   "cell_type": "code",
   "execution_count": 86,
   "id": "65e4727f",
   "metadata": {},
   "outputs": [
    {
     "name": "stdout",
     "output_type": "stream",
     "text": [
      "Info    : Meshing 1D...\n",
      "Info    : [  0%] Meshing curve 1 (Ellipse)\n",
      "Info    : [ 20%] Meshing curve 2 (Ellipse)\n",
      "Info    : [ 30%] Meshing curve 3 (Ellipse)\n",
      "Info    : [ 50%] Meshing curve 4 (Ellipse)\n",
      "Info    : [ 60%] Meshing curve 5 (Ellipse)\n",
      "Info    : [ 80%] Meshing curve 6 (Ellipse)\n",
      "Info    : [ 90%] Meshing curve 7 (Ellipse)\n",
      "Info    : Done meshing 1D (Wall 0.00195892s, CPU 0.002484s)\n",
      "Info    : Meshing 2D...\n",
      "Info    : [  0%] Meshing surface 2 (Plane, Bamg)\n",
      "Info    : [  0%] BAMG succeeded 22 vertices 29 triangles\n",
      "Info    : [  0%] BAMG succeeded 22 vertices 29 triangles\n",
      "Info    : [ 20%] Meshing surface 3 (Plane, Bamg)\n",
      "Info    : [ 20%] BAMG succeeded 34 vertices 50 triangles\n",
      "Info    : [ 20%] BAMG succeeded 32 vertices 46 triangles\n",
      "Info    : [ 20%] BAMG succeeded 32 vertices 46 triangles\n",
      "Info    : [ 30%] Meshing surface 4 (Plane, Bamg)\n",
      "Info    : [ 30%] BAMG succeeded 22 vertices 29 triangles\n",
      "Info    : [ 30%] BAMG succeeded 22 vertices 29 triangles\n",
      "Info    : [ 50%] Meshing surface 5 (Plane, Bamg)\n",
      "Info    : [ 50%] BAMG succeeded 22 vertices 29 triangles\n",
      "Info    : [ 50%] BAMG succeeded 22 vertices 29 triangles\n",
      "Info    : [ 60%] Meshing surface 6 (Plane, Bamg)\n",
      "Info    : [ 60%] BAMG succeeded 34 vertices 50 triangles\n",
      "Info    : [ 60%] BAMG succeeded 33 vertices 48 triangles\n",
      "Info    : [ 60%] BAMG succeeded 33 vertices 48 triangles\n",
      "Info    : [ 80%] Meshing surface 7 (Plane, Bamg)\n",
      "Info    : [ 80%] BAMG succeeded 22 vertices 29 triangles\n",
      "Info    : [ 80%] BAMG succeeded 22 vertices 29 triangles\n",
      "Info    : [ 90%] Meshing surface 8 (Plane, Bamg)\n",
      "Info    : [ 90%] BAMG succeeded 1354 vertices 2571 triangles\n",
      "Info    : [ 90%] BAMG succeeded 1338 vertices 2539 triangles\n",
      "Info    : [ 90%] BAMG succeeded 1337 vertices 2537 triangles\n",
      "Info    : Done meshing 2D (Wall 0.473451s, CPU 0.442207s)\n",
      "Info    : 1406 nodes 2901 elements\n"
     ]
    }
   ],
   "source": [
    "# Create a model.\n",
    "gmsh.initialize()\n",
    "gmsh.model.add(\"mesh\")\n",
    "\n",
    "# Define the system: a large disk.\n",
    "background = gmsh.model.occ.addDisk(0, 0, 0, r_background, r_background)\n",
    "gmsh.model.occ.synchronize()\n",
    "\n",
    "\n",
    "wires_in = []\n",
    "wires_out = []\n",
    "\n",
    "wires_out.append( (2, gmsh.model.occ.addDisk( 1, -0.5, 0, r_wire, r_wire)) )\n",
    "wires_out.append( (2, gmsh.model.occ.addDisk( 1.2,  0, 0, r_helm, r_helm)) )\n",
    "wires_out.append( (2, gmsh.model.occ.addDisk( 1,  0.5, 0, r_wire, r_wire)) )\n",
    "\n",
    "wires_in.append( (2, gmsh.model.occ.addDisk(-1, -0.5, 0, r_wire, r_wire)) )\n",
    "wires_in.append( (2, gmsh.model.occ.addDisk(-1.2,  0, 0, r_helm, r_helm)) )\n",
    "wires_in.append( (2, gmsh.model.occ.addDisk(-1,  0.5, 0, r_wire, r_wire)) )\n",
    "\n",
    "# Update the model.\n",
    "gmsh.model.occ.synchronize()\n",
    "\n",
    "# Resolve the boundaries of the wires and ring in the background domain.\n",
    "\n",
    "all_surfaces = []\n",
    "all_surfaces.extend(wires_in)\n",
    "all_surfaces.extend(wires_out)\n",
    "whole_domain = gmsh.model.occ.fragment([(2, background)], all_surfaces)\n",
    "\n",
    "# Update the model.\n",
    "gmsh.model.occ.synchronize()\n",
    "\n",
    "# Create physical markers for each object.\n",
    "# Use the following markers:\n",
    "# - Vacuum: 0\n",
    "# - Ring: 1\n",
    "# - Inner wires: $[2,3,\\dots,N+1]$\n",
    "# - Outer wires: $[N+2,\\dots, 2\\cdot N+1]$\n",
    "inner_tag = 2\n",
    "outer_tag = 2 + N\n",
    "background_surfaces = []\n",
    "other_surfaces = []\n",
    "\n",
    "# Gmsh can compute the mass of objects and the location of their\n",
    "# centers of mass.  This loop uses these properties to determine\n",
    "# which object to associate grid points with.\n",
    "# \n",
    "# We will use these tags to define material properties later.\n",
    "for domain in whole_domain[0]:\n",
    "    center = gmsh.model.occ.getCenterOfMass(domain[0], domain[1])\n",
    "    mass = gmsh.model.occ.getMass(domain[0], domain[1])\n",
    "\n",
    "    \n",
    "    # Identify the background circle by its center of mass\n",
    "    if np.allclose(center, [0, 0, 0]):\n",
    "        background_surfaces.append(domain[1])\n",
    "\n",
    "    # Identify the inner wires by their centers of mass.\n",
    "    elif np.isclose(center[0], -1):\n",
    "        gmsh.model.addPhysicalGroup(domain[0], [domain[1]], inner_tag)\n",
    "        inner_tag +=1\n",
    "        other_surfaces.append(domain)\n",
    "\n",
    "    elif np.isclose(center[0], -1.2):\n",
    "        gmsh.model.addPhysicalGroup(domain[0], [domain[1]], inner_tag)\n",
    "        inner_tag +=1\n",
    "        other_surfaces.append(domain)\n",
    "\n",
    "    # Identify the outer wires by their center of mass.\n",
    "    elif np.isclose(center[0], +1):\n",
    "        gmsh.model.addPhysicalGroup(domain[0], [domain[1]], outer_tag)\n",
    "        outer_tag +=1\n",
    "        other_surfaces.append(domain)\n",
    "\n",
    "    elif np.isclose(center[0], +1.2):\n",
    "        gmsh.model.addPhysicalGroup(domain[0], [domain[1]], outer_tag)\n",
    "        outer_tag +=1\n",
    "        other_surfaces.append(domain)\n",
    "\n",
    "# Add marker for the vacuum.\n",
    "gmsh.model.addPhysicalGroup(2, background_surfaces, tag=0)\n",
    "\n",
    "# Create mesh resolution that is fine around the wires and\n",
    "# make the grid coarse further away from the ring.\n",
    "gmsh.model.mesh.field.add(\"Distance\", 1)\n",
    "edges = gmsh.model.getBoundary(other_surfaces, oriented=False)\n",
    "gmsh.model.mesh.field.setNumbers(1, \"EdgesList\", [e[1] for e in edges])\n",
    "gmsh.model.mesh.field.add(\"Threshold\", 2)\n",
    "gmsh.model.mesh.field.setNumber(2, \"IField\", 1)\n",
    "gmsh.model.mesh.field.setNumber(2, \"LcMin\", r_wire / 2)\n",
    "gmsh.model.mesh.field.setNumber(2, \"LcMax\", 5 * r_wire)\n",
    "gmsh.model.mesh.field.setNumber(2, \"DistMin\", 2 * r_wire)\n",
    "gmsh.model.mesh.field.setNumber(2, \"DistMax\", 4 * r_wire)\n",
    "gmsh.model.mesh.field.setAsBackgroundMesh(2)\n",
    "gmsh.option.setNumber(\"Mesh.Algorithm\", 7)\n",
    "\n",
    "# Create a mesh for this system.\n",
    "gmsh.model.mesh.generate(dim)\n",
    "\n",
    "# Bring the mesh into FEniCSx.\n",
    "mesh, subdomains, boundaries = dolfinx.io.gmshio.model_to_mesh(\n",
    "    gmsh.model, comm=mpi4py.MPI.COMM_WORLD, rank=0, gdim=2)\n",
    "\n",
    "gmsh.finalize()\n",
    "\n",
    "# This loop will assign material properties to each cell in our model.\n",
    "# In this case, it is the relative magnetic permeability and current density.\n",
    "\n",
    "# Define a simple function space for properties.\n",
    "Q = dolfinx.fem.FunctionSpace(mesh, (\"DG\", 0))\n",
    "\n",
    "# Get the list of materials.\n",
    "material_tags = np.unique(subdomains.values)\n",
    "\n",
    "# Define functions for current density and magnetic permeability.\n",
    "mu = dolfinx.fem.Function(Q)\n",
    "J = dolfinx.fem.Function(Q)\n",
    "\n",
    "# Only some regions carry current. Initialize all current densities to zero.\n",
    "J.x.array[:] = 0.0\n",
    "\n",
    "# Now, cycle over all objects and assign material properties. \n",
    "for tag in material_tags:\n",
    "    cells = subdomains.find(tag)\n",
    "    \n",
    "    # Set values for magnetic permeability.\n",
    "    if tag == 0:\n",
    "        # Vacuum\n",
    "        mu_ = mu_background\n",
    "    elif tag == 1:\n",
    "        # Ring\n",
    "        mu_ = mu_ring\n",
    "    else:\n",
    "        # Wire\n",
    "        mu_ = mu_wire\n",
    "\n",
    "    mu.x.array[cells] = np.full_like(cells, mu_, dtype=petsc4py.PETSc.ScalarType)\n",
    "    \n",
    "    # Set nonzero current densities.\n",
    "    if tag in range(2, 2+N):\n",
    "        J.x.array[cells] = np.full_like(cells, J0, dtype=petsc4py.PETSc.ScalarType)\n",
    "    elif tag in range(2+N, 2*N + 2):\n",
    "        J.x.array[cells] = np.full_like(cells, -J0, dtype=petsc4py.PETSc.ScalarType)\n",
    "        \n",
    "## Set up the finite element problem.\n",
    "\n",
    "# Define trial and test functions.\n",
    "V = dolfinx.fem.FunctionSpace(mesh, (\"Lagrange\", 2))\n",
    "\n",
    "# Define the trial and test functions.\n",
    "u = ufl.TrialFunction(V)\n",
    "v = ufl.TestFunction(V)\n",
    "\n",
    "# Create a function to store the solution.\n",
    "# This is the vector potential.  A_x = A_y = 0.\n",
    "A_z = dolfinx.fem.Function(V)\n",
    "\n",
    "# Identify the domain and boundary.\n",
    "D = mesh.topology.dim\n",
    "Omega = dolfinx.mesh.locate_entities_boundary(mesh, D-1, lambda x: np.full(x.shape[1], True))\n",
    "dOmega = dolfinx.fem.locate_dofs_topological(V, D-1, Omega)\n",
    "\n",
    "# Force the potential to vanish on the boundary.\n",
    "bc = dolfinx.fem.dirichletbc(petsc4py.PETSc.ScalarType(0), dOmega, V)\n",
    "\n",
    "# Define the Poisson equation we are trying to solve.\n",
    "a = (1 / mu) * ufl.inner(ufl.grad(u), ufl.grad(v)) * ufl.dx\n",
    "L = 4 * ufl.pi * J * v * ufl.dx\n",
    "\n",
    "# Define the problem.\n",
    "problem = dolfinx.fem.petsc.LinearProblem(a, L, u=A_z, bcs=[bc])\n",
    "\n",
    "# Solve the problem.\n",
    "problem.solve()\n",
    "\n",
    "\n",
    "# Compute the magnetic field.\n",
    "W = dolfinx.fem.VectorFunctionSpace(mesh, (\"CG\", 2))\n",
    "B = dolfinx.fem.Function(W)\n",
    "B_expr = dolfinx.fem.Expression(ufl.as_vector((A_z.dx(1), -A_z.dx(0))), W.element.interpolation_points())\n",
    "B.interpolate(B_expr)"
   ]
  },
  {
   "cell_type": "code",
   "execution_count": 87,
   "id": "dd2d5a85",
   "metadata": {},
   "outputs": [
    {
     "data": {
      "application/vnd.jupyter.widget-view+json": {
       "model_id": "57b07d32a1a14353a0f53508c0e2efe2",
       "version_major": 2,
       "version_minor": 0
      },
      "text/plain": [
       "ViewInteractiveWidget(height=768, layout=Layout(height='auto', width='100%'), width=1024)"
      ]
     },
     "metadata": {},
     "output_type": "display_data"
    }
   ],
   "source": [
    "# Maxwell\n",
    "multiphenicsx.io.plot_scalar_field(A_z,\"Vector Potential\", warp_factor=1)\n"
   ]
  },
  {
   "cell_type": "code",
   "execution_count": 74,
   "id": "6e8b543e",
   "metadata": {},
   "outputs": [
    {
     "data": {
      "application/vnd.jupyter.widget-view+json": {
       "model_id": "a4004f22bb4b403c98864f4f053b7645",
       "version_major": 2,
       "version_minor": 0
      },
      "text/plain": [
       "ViewInteractiveWidget(height=768, layout=Layout(height='auto', width='100%'), width=1024)"
      ]
     },
     "metadata": {},
     "output_type": "display_data"
    }
   ],
   "source": [
    "multiphenicsx.io.plot_vector_field(B,\"Magnetic Field\", glyph_factor=0.1)"
   ]
  },
  {
   "cell_type": "code",
   "execution_count": 76,
   "id": "5c190a66",
   "metadata": {},
   "outputs": [
    {
     "name": "stdout",
     "output_type": "stream",
     "text": [
      "Info    : Meshing 1D...\n",
      "Info    : [  0%] Meshing curve 1 (Ellipse)\n",
      "Info    : [ 20%] Meshing curve 2 (Ellipse)\n",
      "Info    : [ 30%] Meshing curve 3 (Ellipse)\n",
      "Info    : [ 40%] Meshing curve 4 (Ellipse)\n",
      "Info    : [ 50%] Meshing curve 5 (Ellipse)\n",
      "Info    : [ 60%] Meshing curve 6 (Ellipse)\n",
      "Info    : [ 70%] Meshing curve 7 (Ellipse)\n",
      "Info    : [ 80%] Meshing curve 8 (Ellipse)\n",
      "Info    : [ 90%] Meshing curve 9 (Ellipse)\n",
      "Info    : Done meshing 1D (Wall 0.00250608s, CPU 0.003246s)\n",
      "Info    : Meshing 2D...\n",
      "Info    : [  0%] Meshing surface 2 (Plane, Bamg)\n",
      "Info    : [  0%] BAMG succeeded 22 vertices 29 triangles\n",
      "Info    : [  0%] BAMG succeeded 22 vertices 29 triangles\n",
      "Info    : [ 20%] Meshing surface 3 (Plane, Bamg)\n",
      "Info    : [ 20%] BAMG succeeded 22 vertices 29 triangles\n",
      "Info    : [ 20%] BAMG succeeded 22 vertices 29 triangles\n",
      "Info    : [ 30%] Meshing surface 4 (Plane, Bamg)\n",
      "Info    : [ 30%] BAMG succeeded 21 vertices 27 triangles\n",
      "Info    : [ 30%] BAMG succeeded 21 vertices 27 triangles\n",
      "Info    : [ 40%] Meshing surface 5 (Plane, Bamg)\n",
      "Info    : [ 40%] BAMG succeeded 22 vertices 29 triangles\n",
      "Info    : [ 40%] BAMG succeeded 22 vertices 29 triangles\n",
      "Info    : [ 50%] Meshing surface 6 (Plane, Bamg)\n",
      "Info    : [ 50%] BAMG succeeded 21 vertices 27 triangles\n",
      "Info    : [ 50%] BAMG succeeded 21 vertices 27 triangles\n",
      "Info    : [ 60%] Meshing surface 7 (Plane, Bamg)\n",
      "Info    : [ 60%] BAMG succeeded 21 vertices 27 triangles\n",
      "Info    : [ 60%] BAMG succeeded 21 vertices 27 triangles\n",
      "Info    : [ 70%] Meshing surface 8 (Plane, Bamg)\n",
      "Info    : [ 70%] BAMG succeeded 22 vertices 29 triangles\n",
      "Info    : [ 70%] BAMG succeeded 22 vertices 29 triangles\n",
      "Info    : [ 80%] Meshing surface 9 (Plane, Bamg)\n",
      "Info    : [ 80%] BAMG succeeded 22 vertices 29 triangles\n",
      "Info    : [ 80%] BAMG succeeded 22 vertices 29 triangles\n",
      "Info    : [ 90%] Meshing surface 10 (Plane, Bamg)\n",
      "Info    : [ 90%] BAMG succeeded 1808 vertices 3463 triangles\n",
      "Info    : [ 90%] BAMG succeeded 1798 vertices 3443 triangles\n",
      "Info    : Done meshing 2D (Wall 0.54506s, CPU 0.501703s)\n",
      "Info    : 1867 nodes 3845 elements\n"
     ]
    }
   ],
   "source": [
    "# Create a model.\n",
    "gmsh.initialize()\n",
    "gmsh.model.add(\"mesh\")\n",
    "\n",
    "# Define the system: a large disk.\n",
    "background = gmsh.model.occ.addDisk(0, 0, 0, r_background, r_background)\n",
    "gmsh.model.occ.synchronize()\n",
    "\n",
    "\n",
    "wires_in = []\n",
    "wires_out = []\n",
    "\n",
    "wires_out.append( (2, gmsh.model.occ.addDisk( 1, -0.5, 0, r_wire, r_wire)) )\n",
    "wires_out.append( (2, gmsh.model.occ.addDisk( 1,  0.5, 0, r_wire, r_wire)) )\n",
    "\n",
    "wires_in.append( (2, gmsh.model.occ.addDisk(-1, -0.5, 0, r_wire, r_wire)) )\n",
    "wires_in.append( (2, gmsh.model.occ.addDisk(-1,  0.5, 0, r_wire, r_wire)) )\n",
    "\n",
    "wires_out.append( (2, gmsh.model.occ.addDisk( 1,  -2, 0, r_wire, r_wire)) )\n",
    "wires_out.append( (2, gmsh.model.occ.addDisk( 1,  2, 0, r_wire, r_wire)) )\n",
    "\n",
    "wires_in.append( (2, gmsh.model.occ.addDisk(-1,  -2, 0, r_wire, r_wire)) )\n",
    "wires_in.append( (2, gmsh.model.occ.addDisk(-1,  2, 0, r_wire, r_wire)) )\n",
    "\n",
    "# Update the model.\n",
    "gmsh.model.occ.synchronize()\n",
    "\n",
    "# Resolve the boundaries of the wires and ring in the background domain.\n",
    "\n",
    "all_surfaces = []\n",
    "all_surfaces.extend(wires_in)\n",
    "all_surfaces.extend(wires_out)\n",
    "whole_domain = gmsh.model.occ.fragment([(2, background)], all_surfaces)\n",
    "\n",
    "# Update the model.\n",
    "gmsh.model.occ.synchronize()\n",
    "\n",
    "# Create physical markers for each object.\n",
    "# Use the following markers:\n",
    "# - Vacuum: 0\n",
    "# - Ring: 1\n",
    "# - Inner wires: $[2,3,\\dots,N+1]$\n",
    "# - Outer wires: $[N+2,\\dots, 2\\cdot N+1]$\n",
    "inner_tag = 2\n",
    "outer_tag = 2 + N\n",
    "background_surfaces = []\n",
    "other_surfaces = []\n",
    "\n",
    "# Gmsh can compute the mass of objects and the location of their\n",
    "# centers of mass.  This loop uses these properties to determine\n",
    "# which object to associate grid points with.\n",
    "# \n",
    "# We will use these tags to define material properties later.\n",
    "for domain in whole_domain[0]:\n",
    "    center = gmsh.model.occ.getCenterOfMass(domain[0], domain[1])\n",
    "    mass = gmsh.model.occ.getMass(domain[0], domain[1])\n",
    "\n",
    "    \n",
    "    # Identify the background circle by its center of mass\n",
    "    if np.allclose(center, [0, 0, 0]):\n",
    "        background_surfaces.append(domain[1])\n",
    "\n",
    "\n",
    "    elif np.isclose(center[0], -1):\n",
    "        gmsh.model.addPhysicalGroup(domain[0], [domain[1]], inner_tag)\n",
    "        inner_tag +=1\n",
    "        other_surfaces.append(domain)\n",
    "\n",
    "\n",
    "    elif np.isclose(center[0], +1):\n",
    "        gmsh.model.addPhysicalGroup(domain[0], [domain[1]], outer_tag)\n",
    "        outer_tag +=1\n",
    "        other_surfaces.append(domain)\n",
    "\n",
    "\n",
    "    elif np.isclose(center[0], -2):\n",
    "        gmsh.model.addPhysicalGroup(domain[0], [domain[1]], inner_tag)\n",
    "        outer_tag +=1\n",
    "        other_surfaces.append(domain)\n",
    "\n",
    "\n",
    "    elif np.isclose(center[0], 2):\n",
    "        gmsh.model.addPhysicalGroup(domain[0], [domain[1]], outer_tag)\n",
    "        inner_tag +=1\n",
    "        other_surfaces.append(domain)\n",
    "        \n",
    "\n",
    "\n",
    "\n",
    "\n",
    "# Add marker for the vacuum.\n",
    "gmsh.model.addPhysicalGroup(2, background_surfaces, tag=0)\n",
    "\n",
    "# Create mesh resolution that is fine around the wires and\n",
    "# make the grid coarse further away from the ring.\n",
    "gmsh.model.mesh.field.add(\"Distance\", 1)\n",
    "edges = gmsh.model.getBoundary(other_surfaces, oriented=False)\n",
    "gmsh.model.mesh.field.setNumbers(1, \"EdgesList\", [e[1] for e in edges])\n",
    "gmsh.model.mesh.field.add(\"Threshold\", 2)\n",
    "gmsh.model.mesh.field.setNumber(2, \"IField\", 1)\n",
    "gmsh.model.mesh.field.setNumber(2, \"LcMin\", r_wire / 2)\n",
    "gmsh.model.mesh.field.setNumber(2, \"LcMax\", 5 * r_wire)\n",
    "gmsh.model.mesh.field.setNumber(2, \"DistMin\", 2 * r_wire)\n",
    "gmsh.model.mesh.field.setNumber(2, \"DistMax\", 4 * r_wire)\n",
    "gmsh.model.mesh.field.setAsBackgroundMesh(2)\n",
    "gmsh.option.setNumber(\"Mesh.Algorithm\", 7)\n",
    "\n",
    "# Create a mesh for this system.\n",
    "gmsh.model.mesh.generate(dim)\n",
    "\n",
    "# Bring the mesh into FEniCSx.\n",
    "mesh, subdomains, boundaries = dolfinx.io.gmshio.model_to_mesh(\n",
    "    gmsh.model, comm=mpi4py.MPI.COMM_WORLD, rank=0, gdim=2)\n",
    "\n",
    "gmsh.finalize()\n",
    "\n",
    "# This loop will assign material properties to each cell in our model.\n",
    "# In this case, it is the relative magnetic permeability and current density.\n",
    "\n",
    "# Define a simple function space for properties.\n",
    "Q = dolfinx.fem.FunctionSpace(mesh, (\"DG\", 0))\n",
    "\n",
    "# Get the list of materials.\n",
    "material_tags = np.unique(subdomains.values)\n",
    "\n",
    "# Define functions for current density and magnetic permeability.\n",
    "mu = dolfinx.fem.Function(Q)\n",
    "J = dolfinx.fem.Function(Q)\n",
    "\n",
    "# Only some regions carry current. Initialize all current densities to zero.\n",
    "J.x.array[:] = 0.0\n",
    "\n",
    "# Now, cycle over all objects and assign material properties. \n",
    "for tag in material_tags:\n",
    "    cells = subdomains.find(tag)\n",
    "    \n",
    "    # Set values for magnetic permeability.\n",
    "    if tag == 0:\n",
    "        # Vacuum\n",
    "        mu_ = mu_background\n",
    "    elif tag == 1:\n",
    "        # Ring\n",
    "        mu_ = mu_ring\n",
    "    else:\n",
    "        # Wire\n",
    "        mu_ = mu_wire\n",
    "\n",
    "    mu.x.array[cells] = np.full_like(cells, mu_, dtype=petsc4py.PETSc.ScalarType)\n",
    "    \n",
    "    # Set nonzero current densities.\n",
    "    if tag in range(2, 2+N):\n",
    "        J.x.array[cells] = np.full_like(cells, J0, dtype=petsc4py.PETSc.ScalarType)\n",
    "    elif tag in range(2+N, 2*N + 2):\n",
    "        J.x.array[cells] = np.full_like(cells, -J0, dtype=petsc4py.PETSc.ScalarType)\n",
    "        \n",
    "## Set up the finite element problem.\n",
    "\n",
    "# Define trial and test functions.\n",
    "V = dolfinx.fem.FunctionSpace(mesh, (\"Lagrange\", 2))\n",
    "\n",
    "# Define the trial and test functions.\n",
    "u = ufl.TrialFunction(V)\n",
    "v = ufl.TestFunction(V)\n",
    "\n",
    "# Create a function to store the solution.\n",
    "# This is the vector potential.  A_x = A_y = 0.\n",
    "A_z = dolfinx.fem.Function(V)\n",
    "\n",
    "# Identify the domain and boundary.\n",
    "D = mesh.topology.dim\n",
    "Omega = dolfinx.mesh.locate_entities_boundary(mesh, D-1, lambda x: np.full(x.shape[1], True))\n",
    "dOmega = dolfinx.fem.locate_dofs_topological(V, D-1, Omega)\n",
    "\n",
    "# Force the potential to vanish on the boundary.\n",
    "bc = dolfinx.fem.dirichletbc(petsc4py.PETSc.ScalarType(0), dOmega, V)\n",
    "\n",
    "# Define the Poisson equation we are trying to solve.\n",
    "a = (1 / mu) * ufl.inner(ufl.grad(u), ufl.grad(v)) * ufl.dx\n",
    "L = 4 * ufl.pi * J * v * ufl.dx\n",
    "\n",
    "# Define the problem.\n",
    "problem = dolfinx.fem.petsc.LinearProblem(a, L, u=A_z, bcs=[bc])\n",
    "\n",
    "# Solve the problem.\n",
    "problem.solve()\n",
    "\n",
    "\n",
    "# Compute the magnetic field.\n",
    "W = dolfinx.fem.VectorFunctionSpace(mesh, (\"CG\", 2))\n",
    "B = dolfinx.fem.Function(W)\n",
    "B_expr = dolfinx.fem.Expression(ufl.as_vector((A_z.dx(1), -A_z.dx(0))), W.element.interpolation_points())\n",
    "B.interpolate(B_expr)"
   ]
  },
  {
   "cell_type": "code",
   "execution_count": 77,
   "id": "55dc1d8d",
   "metadata": {},
   "outputs": [
    {
     "data": {
      "application/vnd.jupyter.widget-view+json": {
       "model_id": "0377b526119d41dcb5d5e8866ba87796",
       "version_major": 2,
       "version_minor": 0
      },
      "text/plain": [
       "ViewInteractiveWidget(height=768, layout=Layout(height='auto', width='100%'), width=1024)"
      ]
     },
     "metadata": {},
     "output_type": "display_data"
    }
   ],
   "source": [
    "multiphenicsx.io.plot_scalar_field(A_z,\"Vector Potential\", warp_factor=1)"
   ]
  },
  {
   "cell_type": "code",
   "execution_count": 61,
   "id": "29ce5c13",
   "metadata": {},
   "outputs": [
    {
     "data": {
      "application/vnd.jupyter.widget-view+json": {
       "model_id": "9209a8f51ed54a2aba368cb75de934e2",
       "version_major": 2,
       "version_minor": 0
      },
      "text/plain": [
       "ViewInteractiveWidget(height=768, layout=Layout(height='auto', width='100%'), width=1024)"
      ]
     },
     "metadata": {},
     "output_type": "display_data"
    }
   ],
   "source": [
    "multiphenicsx.io.plot_vector_field(B,\"Magnetic Field\", glyph_factor=0.1)"
   ]
  },
  {
   "cell_type": "code",
   "execution_count": null,
   "id": "e9df7afa",
   "metadata": {},
   "outputs": [],
   "source": []
  },
  {
   "cell_type": "code",
   "execution_count": null,
   "id": "8761240a",
   "metadata": {},
   "outputs": [],
   "source": []
  }
 ],
 "metadata": {
  "colab": {
   "include_colab_link": true,
   "provenance": []
  },
  "kernelspec": {
   "display_name": "Python 3 (ipykernel)",
   "language": "python",
   "name": "python3"
  },
  "language_info": {
   "codemirror_mode": {
    "name": "ipython",
    "version": 3
   },
   "file_extension": ".py",
   "mimetype": "text/x-python",
   "name": "python",
   "nbconvert_exporter": "python",
   "pygments_lexer": "ipython3",
   "version": "3.10.6"
  },
  "widgets": {
   "application/vnd.jupyter.widget-state+json": {
    "0d8d79d3b6a2414c97a9b2c257e8d1c1": {
     "model_module": "itkwidgets",
     "model_module_version": "^0.32.3",
     "model_name": "ViewerModel",
     "state": {
      "_custom_cmap": null,
      "_dom_classes": [],
      "_downsampling": false,
      "_largest_roi": {
       "dtype": "float64",
       "shape": [
        2,
        3
       ]
      },
      "_model_module": "itkwidgets",
      "_model_module_version": "^0.32.3",
      "_model_name": "ViewerModel",
      "_rendering_image": false,
      "_reset_crop_requested": false,
      "_scale_factors": {
       "dtype": "uint8",
       "shape": [
        3
       ]
      },
      "_view_count": null,
      "_view_module": "itkwidgets",
      "_view_module_version": "^0.32.3",
      "_view_name": "ViewerView",
      "annotations": true,
      "axes": false,
      "background": [
       0.2196078431372549,
       0.2196078431372549,
       0.2196078431372549
      ],
      "blend_mode": "composite",
      "camera": {
       "dtype": "float32",
       "shape": [
        3,
        3
       ]
      },
      "channels": [],
      "clicked_slice_point": null,
      "cmap": null,
      "geometries": [
       {
        "cellData": {
         "activeScalars": 0,
         "arrays": [
          {
           "data": {
            "dataType": "Float64Array",
            "name": "Subdomains",
            "numberOfComponents": 1,
            "size": 9057,
            "vtkClass": "vtkDataArray"
           }
          }
         ],
         "vtkClass": "vtkDataSetAttributes"
        },
        "metadata": {
         "name": "Geometry 0"
        },
        "points": {
         "dataType": "Float32Array",
         "name": "_points",
         "numberOfComponents": 3,
         "size": 13683,
         "vtkClass": "vtkPoints"
        },
        "polys": {
         "dataType": "Uint32Array",
         "name": "_polys",
         "numberOfComponents": 1,
         "size": 36228,
         "vtkClass": "vtkCellArray"
        },
        "vtkClass": "vtkPolyData"
       }
      ],
      "geometry_colors": {
       "dtype": "float32",
       "shape": [
        1,
        3
       ]
      },
      "geometry_opacities": {
       "dtype": "float32",
       "shape": [
        1
       ]
      },
      "gradient_opacity": 0.2,
      "interpolation": true,
      "label_image_blend": 0.5,
      "label_image_names": null,
      "label_image_weights": null,
      "layout": "IPY_MODEL_f74d766faf25499194cb654a97ea7a09",
      "lut": "glasbey",
      "mode": "v",
      "opacity_gaussians": null,
      "point_set_colors": {
       "dtype": "float32",
       "shape": [
        0,
        3
       ]
      },
      "point_set_opacities": {
       "dtype": "float32",
       "shape": [
        0
       ]
      },
      "point_set_representations": [],
      "point_set_sizes": {
       "dtype": "uint8",
       "shape": [
        0
       ]
      },
      "point_sets": [],
      "rendered_image": null,
      "rendered_label_image": null,
      "roi": {
       "dtype": "float64",
       "shape": [
        2,
        3
       ]
      },
      "rotate": false,
      "sample_distance": 0.25,
      "select_roi": false,
      "shadow": true,
      "slicing_planes": false,
      "ui_collapsed": true,
      "units": "",
      "vmax": null,
      "vmin": null,
      "x_slice": null,
      "y_slice": null,
      "z_slice": null
     }
    },
    "110ef4cedb944ca6be4cfd5120bde41a": {
     "model_module": "itkwidgets",
     "model_module_version": "^0.32.3",
     "model_name": "ViewerModel",
     "state": {
      "_custom_cmap": null,
      "_dom_classes": [],
      "_downsampling": false,
      "_largest_roi": {
       "dtype": "float64",
       "shape": [
        2,
        3
       ]
      },
      "_model_module": "itkwidgets",
      "_model_module_version": "^0.32.3",
      "_model_name": "ViewerModel",
      "_rendering_image": false,
      "_reset_crop_requested": false,
      "_scale_factors": {
       "dtype": "uint8",
       "shape": [
        3
       ]
      },
      "_view_count": null,
      "_view_module": "itkwidgets",
      "_view_module_version": "^0.32.3",
      "_view_name": "ViewerView",
      "annotations": true,
      "axes": false,
      "background": [
       0.2196078431372549,
       0.2196078431372549,
       0.2196078431372549
      ],
      "blend_mode": "composite",
      "camera": {
       "dtype": "float32",
       "shape": [
        3,
        3
       ]
      },
      "channels": [],
      "clicked_slice_point": null,
      "cmap": null,
      "geometries": [
       {
        "metadata": {
         "name": "Geometry 0"
        },
        "pointData": {
         "activeScalars": 0,
         "arrays": [
          {
           "data": {
            "dataType": "Float64Array",
            "name": "Vector Potential",
            "numberOfComponents": 1,
            "size": 18178,
            "vtkClass": "vtkDataArray"
           }
          }
         ],
         "vtkClass": "vtkDataSetAttributes"
        },
        "points": {
         "dataType": "Float32Array",
         "name": "_points",
         "numberOfComponents": 3,
         "size": 54534,
         "vtkClass": "vtkPoints"
        },
        "polys": {
         "dataType": "Uint32Array",
         "name": "_polys",
         "numberOfComponents": 1,
         "size": 144912,
         "vtkClass": "vtkCellArray"
        },
        "vtkClass": "vtkPolyData"
       }
      ],
      "geometry_colors": {
       "dtype": "float32",
       "shape": [
        1,
        3
       ]
      },
      "geometry_opacities": {
       "dtype": "float32",
       "shape": [
        1
       ]
      },
      "gradient_opacity": 0.2,
      "interpolation": true,
      "label_image_blend": 0.5,
      "label_image_names": null,
      "label_image_weights": null,
      "layout": "IPY_MODEL_aa223ae226144f22ace715834b7bc761",
      "lut": "glasbey",
      "mode": "v",
      "opacity_gaussians": null,
      "point_set_colors": {
       "dtype": "float32",
       "shape": [
        0,
        3
       ]
      },
      "point_set_opacities": {
       "dtype": "float32",
       "shape": [
        0
       ]
      },
      "point_set_representations": [],
      "point_set_sizes": {
       "dtype": "uint8",
       "shape": [
        0
       ]
      },
      "point_sets": [],
      "rendered_image": null,
      "rendered_label_image": null,
      "roi": {
       "dtype": "float64",
       "shape": [
        2,
        3
       ]
      },
      "rotate": false,
      "sample_distance": 0.25,
      "select_roi": false,
      "shadow": true,
      "slicing_planes": false,
      "ui_collapsed": true,
      "units": "",
      "vmax": null,
      "vmin": null,
      "x_slice": null,
      "y_slice": null,
      "z_slice": null
     }
    },
    "45b9df912cf24b35854afbac9c90f504": {
     "model_module": "@jupyter-widgets/base",
     "model_module_version": "1.2.0",
     "model_name": "LayoutModel",
     "state": {
      "_model_module": "@jupyter-widgets/base",
      "_model_module_version": "1.2.0",
      "_model_name": "LayoutModel",
      "_view_count": null,
      "_view_module": "@jupyter-widgets/base",
      "_view_module_version": "1.2.0",
      "_view_name": "LayoutView",
      "align_content": null,
      "align_items": null,
      "align_self": null,
      "border": null,
      "bottom": null,
      "display": null,
      "flex": null,
      "flex_flow": null,
      "grid_area": null,
      "grid_auto_columns": null,
      "grid_auto_flow": null,
      "grid_auto_rows": null,
      "grid_column": null,
      "grid_gap": null,
      "grid_row": null,
      "grid_template_areas": null,
      "grid_template_columns": null,
      "grid_template_rows": null,
      "height": null,
      "justify_content": null,
      "justify_items": null,
      "left": null,
      "margin": null,
      "max_height": null,
      "max_width": null,
      "min_height": null,
      "min_width": null,
      "object_fit": null,
      "object_position": null,
      "order": null,
      "overflow": null,
      "overflow_x": null,
      "overflow_y": null,
      "padding": null,
      "right": null,
      "top": null,
      "visibility": null,
      "width": null
     }
    },
    "8c95e26a76924c0ba1e9efbced75b42d": {
     "model_module": "itkwidgets",
     "model_module_version": "^0.32.3",
     "model_name": "ViewerModel",
     "state": {
      "_custom_cmap": null,
      "_dom_classes": [],
      "_downsampling": false,
      "_largest_roi": {
       "dtype": "float64",
       "shape": [
        2,
        3
       ]
      },
      "_model_module": "itkwidgets",
      "_model_module_version": "^0.32.3",
      "_model_name": "ViewerModel",
      "_rendering_image": false,
      "_reset_crop_requested": false,
      "_scale_factors": {
       "dtype": "uint8",
       "shape": [
        3
       ]
      },
      "_view_count": null,
      "_view_module": "itkwidgets",
      "_view_module_version": "^0.32.3",
      "_view_name": "ViewerView",
      "annotations": true,
      "axes": false,
      "background": [
       0.2196078431372549,
       0.2196078431372549,
       0.2196078431372549
      ],
      "blend_mode": "composite",
      "camera": {
       "dtype": "float32",
       "shape": [
        3,
        3
       ]
      },
      "channels": [],
      "clicked_slice_point": null,
      "cmap": null,
      "geometries": [
       {
        "metadata": {
         "name": "Geometry 0"
        },
        "pointData": {
         "activeScalars": 0,
         "activeVectors": 1,
         "arrays": [
          {
           "data": {
            "dataType": "Float32Array",
            "name": "GlyphScale",
            "numberOfComponents": 1,
            "size": 563518,
            "vtkClass": "vtkDataArray"
           }
          },
          {
           "data": {
            "dataType": "Float32Array",
            "name": "GlyphVector",
            "numberOfComponents": 3,
            "size": 1690554,
            "vtkClass": "vtkDataArray"
           }
          }
         ],
         "vtkClass": "vtkDataSetAttributes"
        },
        "points": {
         "dataType": "Float32Array",
         "name": "_points",
         "numberOfComponents": 3,
         "size": 1690554,
         "vtkClass": "vtkPoints"
        },
        "polys": {
         "dataType": "Uint32Array",
         "name": "_polys",
         "numberOfComponents": 1,
         "size": 1363350,
         "vtkClass": "vtkCellArray"
        },
        "vtkClass": "vtkPolyData"
       },
       {
        "lines": {
         "dataType": "Uint32Array",
         "name": "_lines",
         "numberOfComponents": 1,
         "size": 40851,
         "vtkClass": "vtkCellArray"
        },
        "metadata": {
         "name": "Geometry 1"
        },
        "points": {
         "dataType": "Float32Array",
         "name": "_points",
         "numberOfComponents": 3,
         "size": 13683,
         "vtkClass": "vtkPoints"
        },
        "vtkClass": "vtkPolyData"
       }
      ],
      "geometry_colors": {
       "dtype": "float32",
       "shape": [
        2,
        3
       ]
      },
      "geometry_opacities": {
       "dtype": "float32",
       "shape": [
        2
       ]
      },
      "gradient_opacity": 0.2,
      "interpolation": true,
      "label_image_blend": 0.5,
      "label_image_names": null,
      "label_image_weights": null,
      "layout": "IPY_MODEL_afd5c3b16805410cb1e47a608596b453",
      "lut": "glasbey",
      "mode": "v",
      "opacity_gaussians": null,
      "point_set_colors": {
       "dtype": "float32",
       "shape": [
        0,
        3
       ]
      },
      "point_set_opacities": {
       "dtype": "float32",
       "shape": [
        0
       ]
      },
      "point_set_representations": [],
      "point_set_sizes": {
       "dtype": "uint8",
       "shape": [
        0
       ]
      },
      "point_sets": [],
      "rendered_image": null,
      "rendered_label_image": null,
      "roi": {
       "dtype": "float64",
       "shape": [
        2,
        3
       ]
      },
      "rotate": false,
      "sample_distance": 0.25,
      "select_roi": false,
      "shadow": true,
      "slicing_planes": false,
      "ui_collapsed": true,
      "units": "",
      "vmax": null,
      "vmin": null,
      "x_slice": null,
      "y_slice": null,
      "z_slice": null
     }
    },
    "8d4d4f7ecaa84dacbadead84e0cd6045": {
     "model_module": "itkwidgets",
     "model_module_version": "^0.32.3",
     "model_name": "ViewerModel",
     "state": {
      "_custom_cmap": null,
      "_dom_classes": [],
      "_downsampling": false,
      "_largest_roi": {
       "dtype": "float64",
       "shape": [
        2,
        3
       ]
      },
      "_model_module": "itkwidgets",
      "_model_module_version": "^0.32.3",
      "_model_name": "ViewerModel",
      "_rendering_image": false,
      "_reset_crop_requested": false,
      "_scale_factors": {
       "dtype": "uint8",
       "shape": [
        3
       ]
      },
      "_view_count": null,
      "_view_module": "itkwidgets",
      "_view_module_version": "^0.32.3",
      "_view_name": "ViewerView",
      "annotations": true,
      "axes": false,
      "background": [
       0.2196078431372549,
       0.2196078431372549,
       0.2196078431372549
      ],
      "blend_mode": "composite",
      "camera": {
       "dtype": "float32",
       "shape": [
        3,
        3
       ]
      },
      "channels": [],
      "clicked_slice_point": null,
      "cmap": null,
      "geometries": [
       {
        "metadata": {
         "name": "Geometry 0"
        },
        "points": {
         "dataType": "Float32Array",
         "name": "_points",
         "numberOfComponents": 3,
         "size": 13683,
         "vtkClass": "vtkPoints"
        },
        "polys": {
         "dataType": "Uint32Array",
         "name": "_polys",
         "numberOfComponents": 1,
         "size": 36228,
         "vtkClass": "vtkCellArray"
        },
        "vtkClass": "vtkPolyData"
       }
      ],
      "geometry_colors": {
       "dtype": "float32",
       "shape": [
        1,
        3
       ]
      },
      "geometry_opacities": {
       "dtype": "float32",
       "shape": [
        1
       ]
      },
      "gradient_opacity": 0.2,
      "interpolation": true,
      "label_image_blend": 0.5,
      "label_image_names": null,
      "label_image_weights": null,
      "layout": "IPY_MODEL_45b9df912cf24b35854afbac9c90f504",
      "lut": "glasbey",
      "mode": "v",
      "opacity_gaussians": null,
      "point_set_colors": {
       "dtype": "float32",
       "shape": [
        0,
        3
       ]
      },
      "point_set_opacities": {
       "dtype": "float32",
       "shape": [
        0
       ]
      },
      "point_set_representations": [],
      "point_set_sizes": {
       "dtype": "uint8",
       "shape": [
        0
       ]
      },
      "point_sets": [],
      "rendered_image": null,
      "rendered_label_image": null,
      "roi": {
       "dtype": "float64",
       "shape": [
        2,
        3
       ]
      },
      "rotate": false,
      "sample_distance": 0.25,
      "select_roi": false,
      "shadow": true,
      "slicing_planes": false,
      "ui_collapsed": true,
      "units": "",
      "vmax": null,
      "vmin": null,
      "x_slice": null,
      "y_slice": null,
      "z_slice": null
     }
    },
    "aa223ae226144f22ace715834b7bc761": {
     "model_module": "@jupyter-widgets/base",
     "model_module_version": "1.2.0",
     "model_name": "LayoutModel",
     "state": {
      "_model_module": "@jupyter-widgets/base",
      "_model_module_version": "1.2.0",
      "_model_name": "LayoutModel",
      "_view_count": null,
      "_view_module": "@jupyter-widgets/base",
      "_view_module_version": "1.2.0",
      "_view_name": "LayoutView",
      "align_content": null,
      "align_items": null,
      "align_self": null,
      "border": null,
      "bottom": null,
      "display": null,
      "flex": null,
      "flex_flow": null,
      "grid_area": null,
      "grid_auto_columns": null,
      "grid_auto_flow": null,
      "grid_auto_rows": null,
      "grid_column": null,
      "grid_gap": null,
      "grid_row": null,
      "grid_template_areas": null,
      "grid_template_columns": null,
      "grid_template_rows": null,
      "height": null,
      "justify_content": null,
      "justify_items": null,
      "left": null,
      "margin": null,
      "max_height": null,
      "max_width": null,
      "min_height": null,
      "min_width": null,
      "object_fit": null,
      "object_position": null,
      "order": null,
      "overflow": null,
      "overflow_x": null,
      "overflow_y": null,
      "padding": null,
      "right": null,
      "top": null,
      "visibility": null,
      "width": null
     }
    },
    "afd5c3b16805410cb1e47a608596b453": {
     "model_module": "@jupyter-widgets/base",
     "model_module_version": "1.2.0",
     "model_name": "LayoutModel",
     "state": {
      "_model_module": "@jupyter-widgets/base",
      "_model_module_version": "1.2.0",
      "_model_name": "LayoutModel",
      "_view_count": null,
      "_view_module": "@jupyter-widgets/base",
      "_view_module_version": "1.2.0",
      "_view_name": "LayoutView",
      "align_content": null,
      "align_items": null,
      "align_self": null,
      "border": null,
      "bottom": null,
      "display": null,
      "flex": null,
      "flex_flow": null,
      "grid_area": null,
      "grid_auto_columns": null,
      "grid_auto_flow": null,
      "grid_auto_rows": null,
      "grid_column": null,
      "grid_gap": null,
      "grid_row": null,
      "grid_template_areas": null,
      "grid_template_columns": null,
      "grid_template_rows": null,
      "height": null,
      "justify_content": null,
      "justify_items": null,
      "left": null,
      "margin": null,
      "max_height": null,
      "max_width": null,
      "min_height": null,
      "min_width": null,
      "object_fit": null,
      "object_position": null,
      "order": null,
      "overflow": null,
      "overflow_x": null,
      "overflow_y": null,
      "padding": null,
      "right": null,
      "top": null,
      "visibility": null,
      "width": null
     }
    },
    "f74d766faf25499194cb654a97ea7a09": {
     "model_module": "@jupyter-widgets/base",
     "model_module_version": "1.2.0",
     "model_name": "LayoutModel",
     "state": {
      "_model_module": "@jupyter-widgets/base",
      "_model_module_version": "1.2.0",
      "_model_name": "LayoutModel",
      "_view_count": null,
      "_view_module": "@jupyter-widgets/base",
      "_view_module_version": "1.2.0",
      "_view_name": "LayoutView",
      "align_content": null,
      "align_items": null,
      "align_self": null,
      "border": null,
      "bottom": null,
      "display": null,
      "flex": null,
      "flex_flow": null,
      "grid_area": null,
      "grid_auto_columns": null,
      "grid_auto_flow": null,
      "grid_auto_rows": null,
      "grid_column": null,
      "grid_gap": null,
      "grid_row": null,
      "grid_template_areas": null,
      "grid_template_columns": null,
      "grid_template_rows": null,
      "height": null,
      "justify_content": null,
      "justify_items": null,
      "left": null,
      "margin": null,
      "max_height": null,
      "max_width": null,
      "min_height": null,
      "min_width": null,
      "object_fit": null,
      "object_position": null,
      "order": null,
      "overflow": null,
      "overflow_x": null,
      "overflow_y": null,
      "padding": null,
      "right": null,
      "top": null,
      "visibility": null,
      "width": null
     }
    }
   }
  }
 },
 "nbformat": 4,
 "nbformat_minor": 5
}
