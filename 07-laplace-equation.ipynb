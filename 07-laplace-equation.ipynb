{
  "cells": [
    {
      "cell_type": "markdown",
      "metadata": {
        "id": "view-in-github",
        "colab_type": "text"
      },
      "source": [
        "<a href=\"https://colab.research.google.com/github/forrestshort/electrodynamics/blob/master/07-laplace-equation.ipynb\" target=\"_parent\"><img src=\"https://colab.research.google.com/assets/colab-badge.svg\" alt=\"Open In Colab\"/></a>"
      ]
    },
    {
      "cell_type": "markdown",
      "source": [
        "# Solving Laplace's Equation\n",
        "In this tutorial, we are going to use the finite element method to solve Laplace's equation.\n",
        "\n",
        "## The System\n",
        "\n",
        "The physical system under study is a conducting rectangular pipe whose four sides can be held at different potentials or left to vary freely.\n",
        "\n",
        "## Acknowledgements\n",
        "\n",
        "The installation commands below come from the [FEM on CoLab](https://fem-on-colab.github.io/index.html) project.\n",
        "\n",
        "Thanks to all of the contributors to these projects!"
      ],
      "metadata": {
        "id": "TfAjak0-qO4X"
      },
      "id": "TfAjak0-qO4X"
    },
    {
      "cell_type": "markdown",
      "source": [
        "# Install and Load Packages\n",
        "\n",
        "These are the commands we use to install FEniCSx, Gmsh, and **multiphenicsx**."
      ],
      "metadata": {
        "id": "cP7zGK1PVPvZ"
      },
      "id": "cP7zGK1PVPvZ"
    },
    {
      "cell_type": "code",
      "source": [
        "try:\n",
        "    # Import gmsh library for generating meshes.\n",
        "    import gmsh\n",
        "except ImportError:\n",
        "    # If it is not available, install it.  Then import it.\n",
        "    !wget \"https://fem-on-colab.github.io/releases/gmsh-install.sh\" -O \"/tmp/gmsh-install.sh\" && bash \"/tmp/gmsh-install.sh\"\n",
        "    import gmsh"
      ],
      "metadata": {
        "id": "7EUMPSN5-gkh"
      },
      "id": "7EUMPSN5-gkh",
      "execution_count": 115,
      "outputs": []
    },
    {
      "cell_type": "code",
      "execution_count": 116,
      "id": "mediterranean-century",
      "metadata": {
        "id": "mediterranean-century"
      },
      "outputs": [],
      "source": [
        "try:\n",
        "    # Import FEniCSx libraries for finite element analysis.\n",
        "    import dolfinx\n",
        "except ImportError:\n",
        "    # If they are not found, install them.  Then import them.\n",
        "    !wget \"https://fem-on-colab.github.io/releases/fenicsx-install-real.sh\" -O \"/tmp/fenicsx-install.sh\" && bash \"/tmp/fenicsx-install.sh\"\n",
        "    import dolfinx"
      ]
    },
    {
      "cell_type": "code",
      "source": [
        "try:\n",
        "    # Import multiphenicsx, mainly for plotting.\n",
        "    import multiphenicsx\n",
        "except ImportError:\n",
        "    # If they are not found, install them.\n",
        "    !pip3 install \"multiphenicsx@git+https://github.com/multiphenics/multiphenicsx.git@8b97b4e\"\n",
        "    import multiphenicsx"
      ],
      "metadata": {
        "id": "WbKnhYd_hJHf"
      },
      "id": "WbKnhYd_hJHf",
      "execution_count": 117,
      "outputs": []
    },
    {
      "cell_type": "markdown",
      "source": [
        "Everything we need should be installed now!\n",
        "\n",
        "If you \"Restart runtime\" from the \"Runtime\" menu, all of your data will be reset, but the packages will remain installed.\n",
        "\n",
        "Let's load the packages we need, and get started!"
      ],
      "metadata": {
        "id": "oj1SSuMXJytW"
      },
      "id": "oj1SSuMXJytW"
    },
    {
      "cell_type": "code",
      "source": [
        "# Everything should be installed now.\n",
        "# Import the rest of what we need.\n",
        "\n",
        "import dolfinx.fem\n",
        "import dolfinx.io\n",
        "import gmsh\n",
        "import mpi4py.MPI\n",
        "import numpy as np\n",
        "import petsc4py.PETSc\n",
        "import ufl\n",
        "import multiphenicsx.fem\n",
        "import multiphenicsx.io"
      ],
      "metadata": {
        "id": "QbcHvDwImO1j"
      },
      "id": "QbcHvDwImO1j",
      "execution_count": 118,
      "outputs": []
    },
    {
      "cell_type": "markdown",
      "source": [
        "# Concstruct the Model\n",
        "\n",
        "The physical system under study is a conducting rectangular pipe whose four sides can be held at different potentials or left to vary freely.\n",
        "\n",
        "The geometric model is a rectangle, representing the cross section of the pipe."
      ],
      "metadata": {
        "id": "D_67HUAWVueC"
      },
      "id": "D_67HUAWVueC"
    },
    {
      "cell_type": "code",
      "source": [
        "## Adjust the parameters in this cell.\n",
        "# Define the shape: length and width of the rectangle\n",
        "length = 2\n",
        "width = 2"
      ],
      "metadata": {
        "id": "gApSsNTHXLNQ"
      },
      "id": "gApSsNTHXLNQ",
      "execution_count": 119,
      "outputs": []
    },
    {
      "cell_type": "code",
      "source": [
        "# Create a rectangle.\n",
        "# Locate the center.\n",
        "x0 = 0\n",
        "y0 = 0\n",
        "z0 = 0\n",
        "\n",
        "# Give input shorter nicknames.\n",
        "L = length\n",
        "W = width\n",
        "\n",
        "# Locate the corner.\n",
        "x0 = x0 - L/2\n",
        "y0 = y0 - W/2\n",
        "\n",
        "# Tell Gmsh how many dimensions we are using.\n",
        "dim = 2\n",
        "\n",
        "# Grid size parameter.  Make it smaller for higher resolution.\n",
        "delta = 0.1\n",
        "\n",
        "# Create a new model.\n",
        "gmsh.initialize()\n",
        "gmsh.model.add(\"mesh\")\n",
        "\n",
        "# Define points: corners of the rectangle.\n",
        "p0 = gmsh.model.geo.addPoint(x0,y0, z0, delta)\n",
        "p1 = gmsh.model.geo.addPoint(x0+L, y0, z0, delta)\n",
        "p2 = gmsh.model.geo.addPoint(x0+L, y0+W,z0, delta)\n",
        "p3 = gmsh.model.geo.addPoint(x0, y0+W, z0, delta)\n",
        "\n",
        "# Define the perimeter of the rectangle as a loop.\n",
        "l0 = gmsh.model.geo.addLine(p0, p1)\n",
        "l1 = gmsh.model.geo.addLine(p1, p2)\n",
        "l2 = gmsh.model.geo.addLine(p2, p3)\n",
        "l3 = gmsh.model.geo.addLine(p3, p0)\n",
        "loop = gmsh.model.geo.addCurveLoop([l0,l1,l2,l3])\n",
        "\n",
        "# Define the interior of the rectangle as a surface.\n",
        "rectangle = gmsh.model.geo.addPlaneSurface([loop])\n",
        "\n",
        "# Update the model with all of the features we add.\n",
        "gmsh.model.geo.synchronize()\n",
        "\n",
        "# Some geometric objects were only used to define others.\n",
        "# Identify the physical objects.\n",
        "\n",
        "# Add each edge separately, so it is a unique object.\n",
        "# This will allow us to set the boundary conditions separately.\n",
        "gmsh.model.addPhysicalGroup(1, [l0], 1)\n",
        "gmsh.model.addPhysicalGroup(1, [l1], 2)\n",
        "gmsh.model.addPhysicalGroup(1, [l2], 3)\n",
        "gmsh.model.addPhysicalGroup(1, [l3], 4)\n",
        "\n",
        "# Define the interior of the rectangle as our domain.\n",
        "gmsh.model.addPhysicalGroup(2, [rectangle], 1)\n",
        "\n",
        "# Create a mesh for this system.\n",
        "gmsh.model.mesh.generate(dim)\n",
        "\n",
        "# Bring the mesh into FEniCSx.\n",
        "mesh, subdomains, boundaries = dolfinx.io.gmshio.model_to_mesh(\n",
        "    gmsh.model, comm=mpi4py.MPI.COMM_WORLD, rank=0, gdim=2)\n",
        "\n",
        "# Close the mesh generating program.\n",
        "gmsh.finalize()"
      ],
      "metadata": {
        "id": "bbbIAVQ4odgj"
      },
      "id": "bbbIAVQ4odgj",
      "execution_count": 120,
      "outputs": []
    },
    {
      "cell_type": "code",
      "source": [
        "# Get separate identifiers for the four walls.\n",
        "wall_1 = boundaries.indices[boundaries.values == 1]\n",
        "wall_2 = boundaries.indices[boundaries.values == 2]\n",
        "wall_3 = boundaries.indices[boundaries.values == 3]\n",
        "wall_4 = boundaries.indices[boundaries.values == 4]"
      ],
      "metadata": {
        "id": "Tux5Ak_5tEld"
      },
      "id": "Tux5Ak_5tEld",
      "execution_count": 121,
      "outputs": []
    },
    {
      "cell_type": "code",
      "source": [
        "# Plot the entire mesh.\n",
        "multiphenicsx.io.plot_mesh(mesh)"
      ],
      "metadata": {
        "colab": {
          "base_uri": "https://localhost:8080/",
          "referenced_widgets": [
            "8c6ac2754cf6412cac2638de7cb568ff",
            "3751c92a86544d029a7b4478ef96e8f0"
          ],
          "height": 717
        },
        "id": "F2gto5GKrhJM",
        "outputId": "a78daa0c-f144-4da1-b693-9ba8e0db54fd"
      },
      "execution_count": 122,
      "outputs": [
        {
          "output_type": "display_data",
          "data": {
            "text/plain": [
              "Viewer(geometries=[{'vtkClass': 'vtkPolyData', 'points': {'vtkClass': 'vtkPoints', 'name': '_points', 'numberO…"
            ],
            "application/vnd.jupyter.widget-view+json": {
              "version_major": 2,
              "version_minor": 0,
              "model_id": "8c6ac2754cf6412cac2638de7cb568ff"
            }
          },
          "metadata": {
            "application/vnd.jupyter.widget-view+json": {
              "colab": {
                "custom_widget_manager": {
                  "url": "https://ssl.gstatic.com/colaboratory-static/widgets/colab-cdn-widget-manager/d2e234f7cc04bf79/manager.min.js"
                }
              }
            }
          }
        },
        {
          "output_type": "display_data",
          "data": {
            "text/plain": [
              "Viewer(geometries=[{'vtkClass': 'vtkPolyData', 'points': {'vtkClass': 'vtkPoints', 'name': '_points', 'numberO…"
            ],
            "application/vnd.jupyter.widget-view+json": {
              "version_major": 2,
              "version_minor": 0,
              "model_id": "8c6ac2754cf6412cac2638de7cb568ff"
            }
          },
          "metadata": {
            "application/vnd.jupyter.widget-view+json": {
              "colab": {
                "custom_widget_manager": {
                  "url": "https://ssl.gstatic.com/colaboratory-static/widgets/colab-cdn-widget-manager/d2e234f7cc04bf79/manager.min.js"
                }
              }
            }
          }
        }
      ],
      "id": "F2gto5GKrhJM"
    },
    {
      "cell_type": "code",
      "source": [
        "# Plot the subdomains that FEniCSx has identified.\n",
        "# There should only be one for this model.\n",
        "multiphenicsx.io.plot_mesh_tags(subdomains)"
      ],
      "metadata": {
        "colab": {
          "base_uri": "https://localhost:8080/",
          "referenced_widgets": [
            "f6cdd2a59b734d3d80da8e8bf946ed6d",
            "789690da3f0e4661b69bde15f7825c8f"
          ],
          "height": 717
        },
        "id": "Xx0VzMfBrhJM",
        "outputId": "ce5ec432-19fc-4f2c-aa0c-a34a327e7dd2"
      },
      "execution_count": 123,
      "outputs": [
        {
          "output_type": "display_data",
          "data": {
            "text/plain": [
              "Viewer(geometries=[{'vtkClass': 'vtkPolyData', 'points': {'vtkClass': 'vtkPoints', 'name': '_points', 'numberO…"
            ],
            "application/vnd.jupyter.widget-view+json": {
              "version_major": 2,
              "version_minor": 0,
              "model_id": "f6cdd2a59b734d3d80da8e8bf946ed6d"
            }
          },
          "metadata": {
            "application/vnd.jupyter.widget-view+json": {
              "colab": {
                "custom_widget_manager": {
                  "url": "https://ssl.gstatic.com/colaboratory-static/widgets/colab-cdn-widget-manager/d2e234f7cc04bf79/manager.min.js"
                }
              }
            }
          }
        },
        {
          "output_type": "display_data",
          "data": {
            "text/plain": [
              "Viewer(geometries=[{'vtkClass': 'vtkPolyData', 'points': {'vtkClass': 'vtkPoints', 'name': '_points', 'numberO…"
            ],
            "application/vnd.jupyter.widget-view+json": {
              "version_major": 2,
              "version_minor": 0,
              "model_id": "f6cdd2a59b734d3d80da8e8bf946ed6d"
            }
          },
          "metadata": {
            "application/vnd.jupyter.widget-view+json": {
              "colab": {
                "custom_widget_manager": {
                  "url": "https://ssl.gstatic.com/colaboratory-static/widgets/colab-cdn-widget-manager/d2e234f7cc04bf79/manager.min.js"
                }
              }
            }
          }
        }
      ],
      "id": "Xx0VzMfBrhJM"
    },
    {
      "cell_type": "code",
      "source": [
        "# Inspect the boundaries of the elements and the system.\n",
        "multiphenicsx.io.plot_mesh_tags(boundaries)\n",
        "\n",
        "# Note that each wall is a different color,\n",
        "# indicating it is a separate \"physical object\"."
      ],
      "metadata": {
        "colab": {
          "base_uri": "https://localhost:8080/",
          "referenced_widgets": [
            "0783efc877e24a06b8a06a3db06c363b",
            "fc1a478604b643d2b838354bceb2ef39"
          ],
          "height": 717
        },
        "id": "1zS-dBForhJN",
        "outputId": "e348b9a9-d494-4323-e4e5-e9fc0a81ac03"
      },
      "execution_count": 124,
      "outputs": [
        {
          "output_type": "display_data",
          "data": {
            "text/plain": [
              "Viewer(geometries=[{'vtkClass': 'vtkPolyData', 'points': {'vtkClass': 'vtkPoints', 'name': '_points', 'numberO…"
            ],
            "application/vnd.jupyter.widget-view+json": {
              "version_major": 2,
              "version_minor": 0,
              "model_id": "0783efc877e24a06b8a06a3db06c363b"
            }
          },
          "metadata": {
            "application/vnd.jupyter.widget-view+json": {
              "colab": {
                "custom_widget_manager": {
                  "url": "https://ssl.gstatic.com/colaboratory-static/widgets/colab-cdn-widget-manager/d2e234f7cc04bf79/manager.min.js"
                }
              }
            }
          }
        },
        {
          "output_type": "display_data",
          "data": {
            "text/plain": [
              "Viewer(geometries=[{'vtkClass': 'vtkPolyData', 'points': {'vtkClass': 'vtkPoints', 'name': '_points', 'numberO…"
            ],
            "application/vnd.jupyter.widget-view+json": {
              "version_major": 2,
              "version_minor": 0,
              "model_id": "0783efc877e24a06b8a06a3db06c363b"
            }
          },
          "metadata": {
            "application/vnd.jupyter.widget-view+json": {
              "colab": {
                "custom_widget_manager": {
                  "url": "https://ssl.gstatic.com/colaboratory-static/widgets/colab-cdn-widget-manager/d2e234f7cc04bf79/manager.min.js"
                }
              }
            }
          }
        }
      ],
      "id": "1zS-dBForhJN"
    },
    {
      "cell_type": "code",
      "source": [
        "# Change the last function argument to see the individual walls.\n",
        "multiphenicsx.io.plot_mesh_entities(mesh, mesh.topology.dim - 1, wall_1)"
      ],
      "metadata": {
        "colab": {
          "base_uri": "https://localhost:8080/",
          "referenced_widgets": [
            "8b7d00258607422e90ee3fc9a4bb3dfc",
            "d8cdad651a8d4173a33a07d55b9d17fe"
          ],
          "height": 17
        },
        "id": "TbIeRtUKrdbC",
        "outputId": "a091333b-2f4e-40ab-8e72-fa6be7255b9b"
      },
      "id": "TbIeRtUKrdbC",
      "execution_count": 125,
      "outputs": [
        {
          "output_type": "display_data",
          "data": {
            "text/plain": [
              "Viewer(geometries=[{'vtkClass': 'vtkPolyData', 'points': {'vtkClass': 'vtkPoints', 'name': '_points', 'numberO…"
            ],
            "application/vnd.jupyter.widget-view+json": {
              "version_major": 2,
              "version_minor": 0,
              "model_id": "8b7d00258607422e90ee3fc9a4bb3dfc"
            }
          },
          "metadata": {
            "application/vnd.jupyter.widget-view+json": {
              "colab": {
                "custom_widget_manager": {
                  "url": "https://ssl.gstatic.com/colaboratory-static/widgets/colab-cdn-widget-manager/d2e234f7cc04bf79/manager.min.js"
                }
              }
            }
          }
        },
        {
          "output_type": "display_data",
          "data": {
            "text/plain": [
              "Viewer(geometries=[{'vtkClass': 'vtkPolyData', 'points': {'vtkClass': 'vtkPoints', 'name': '_points', 'numberO…"
            ],
            "application/vnd.jupyter.widget-view+json": {
              "version_major": 2,
              "version_minor": 0,
              "model_id": "8b7d00258607422e90ee3fc9a4bb3dfc"
            }
          },
          "metadata": {
            "application/vnd.jupyter.widget-view+json": {
              "colab": {
                "custom_widget_manager": {
                  "url": "https://ssl.gstatic.com/colaboratory-static/widgets/colab-cdn-widget-manager/d2e234f7cc04bf79/manager.min.js"
                }
              }
            }
          }
        }
      ]
    },
    {
      "cell_type": "markdown",
      "source": [
        "# Finite Element Method\n",
        "\n",
        "Now it is time to tell FEniCSx the problem we want to solve on this mesh.\n",
        "\n",
        "You can vary the using the cells above geometry above.  The cell below allows you to specify the boundary conditions along the 4 edges.\n",
        "\n",
        "In the language of finite elements, there are two common types of boundary condtions.\n",
        "- An ***essential boundary condition*** specifies the value of the function on a boundary.\n",
        "- A ***natural boundary condtions*** specifies the normal derivative.\n",
        "\n",
        "The normal derivative is the derivative perpendicular to the boundary.  It is possible to set the function or its normal derivative equal to any other function on the boundary.  These examples will set the function equal to a constant or its normal derivative equal to zero."
      ],
      "metadata": {
        "id": "tJKeO0eYYmgo"
      },
      "id": "tJKeO0eYYmgo"
    },
    {
      "cell_type": "code",
      "source": [
        "# Set the potential on each wall.\n",
        "V1 = 2.0\n",
        "V2 = 0.0\n",
        "V3 = 0.0\n",
        "V4 = 0.0\n",
        "\n",
        "# Define the type of boundary on each wall.\n",
        "# Set to \"True\" or \"1\" for essential (fixed potential).\n",
        "# Set to \"False\" or \"0\" for natural (zero normal derivative).\n",
        "essential_1 = True\n",
        "essential_2 = True\n",
        "essential_3 = False\n",
        "essential_4 = True"
      ],
      "metadata": {
        "id": "GbAt1AqpaRWy"
      },
      "id": "GbAt1AqpaRWy",
      "execution_count": 126,
      "outputs": []
    },
    {
      "cell_type": "code",
      "source": [
        "## Set up the finite element problem.\n",
        "\n",
        "# Define trial and test functions.\n",
        "V = dolfinx.fem.FunctionSpace(mesh, (\"Lagrange\", 2))\n",
        "\n",
        "# Define the trial and test functions.\n",
        "u = ufl.TrialFunction(V)\n",
        "v = ufl.TestFunction(V)\n",
        "\n",
        "# Create a function to store the solution.\n",
        "phi = dolfinx.fem.Function(V)\n",
        "\n",
        "# Identify the domain (all the points inside the boundary).\n",
        "Omega = subdomains.indices[subdomains.values == 1]\n",
        "\n",
        "# Identify the boundary for FEniCSx.\n",
        "dOmega_1 = dolfinx.fem.locate_dofs_topological(V, boundaries.dim, wall_1)\n",
        "dOmega_2 = dolfinx.fem.locate_dofs_topological(V, boundaries.dim, wall_2)\n",
        "dOmega_3 = dolfinx.fem.locate_dofs_topological(V, boundaries.dim, wall_3)\n",
        "dOmega_4 = dolfinx.fem.locate_dofs_topological(V, boundaries.dim, wall_4)\n",
        "\n",
        "# Now introduce the boundary conditions.\n",
        "# Store the essential boundary conditions in a list.\n",
        "essential_bc = []\n",
        "if essential_1:\n",
        "    Phi0 = dolfinx.fem.Constant(mesh, petsc4py.PETSc.ScalarType(V1))\n",
        "    essential_bc += [dolfinx.fem.dirichletbc(Phi0, dOmega_1, V)]\n",
        "if essential_2:\n",
        "    Phi0 = dolfinx.fem.Constant(mesh, petsc4py.PETSc.ScalarType(V2))\n",
        "    essential_bc += [dolfinx.fem.dirichletbc(Phi0, dOmega_2, V)]\n",
        "if essential_3:\n",
        "    Phi0 = dolfinx.fem.Constant(mesh, petsc4py.PETSc.ScalarType(V3))\n",
        "    essential_bc += [dolfinx.fem.dirichletbc(Phi0, dOmega_3, V)]\n",
        "if essential_4:\n",
        "    Phi0 = dolfinx.fem.Constant(mesh, petsc4py.PETSc.ScalarType(V4))\n",
        "    essential_bc += [dolfinx.fem.dirichletbc(Phi0, dOmega_4, V)]\n",
        "\n",
        "# This is the FEM version of the Laplacian.\n",
        "# It is the left-hand side of Poisson's or Laplace's equation.\n",
        "a = ufl.inner(ufl.grad(u), ufl.grad(v)) * ufl.dx\n",
        "\n",
        "# This the right-hand side of Poisson's equation.\n",
        "# We need to create a FEniCSx-friendly version of 0.\n",
        "Zero = dolfinx.fem.Constant(mesh, petsc4py.PETSc.ScalarType(0.0))\n",
        "L = Zero * v * ufl.dx\n",
        "\n",
        "# Put it all together for FEniCSx.\n",
        "problem = dolfinx.fem.petsc.LinearProblem(a, L, essential_bc, u=phi)\n",
        "\n",
        "# Now, solve it!\n",
        "problem.solve()\n",
        "\n",
        "# Tie up some loose ends.\n",
        "phi.vector.ghostUpdate(addv=petsc4py.PETSc.InsertMode.INSERT, mode=petsc4py.PETSc.ScatterMode.FORWARD)"
      ],
      "metadata": {
        "id": "NK2U7uz5vElB"
      },
      "id": "NK2U7uz5vElB",
      "execution_count": 127,
      "outputs": []
    },
    {
      "cell_type": "code",
      "source": [
        "# Plot the solution.\n",
        "multiphenicsx.io.plot_scalar_field(phi, \"Potential\", warp_factor=1)"
      ],
      "metadata": {
        "outputId": "8df4044e-3c92-4077-e75a-e863bf0ca4d5",
        "colab": {
          "base_uri": "https://localhost:8080/",
          "height": 717,
          "referenced_widgets": [
            "dfad4c02f3fa4b579acd2a9704bfe8b0",
            "3266f8e717fe4eefab7a79ec9eb221a2"
          ]
        },
        "id": "nsLVYr1fSiKZ"
      },
      "execution_count": 128,
      "outputs": [
        {
          "output_type": "display_data",
          "data": {
            "text/plain": [
              "Viewer(geometries=[{'vtkClass': 'vtkPolyData', 'points': {'vtkClass': 'vtkPoints', 'name': '_points', 'numberO…"
            ],
            "application/vnd.jupyter.widget-view+json": {
              "version_major": 2,
              "version_minor": 0,
              "model_id": "dfad4c02f3fa4b579acd2a9704bfe8b0"
            }
          },
          "metadata": {
            "application/vnd.jupyter.widget-view+json": {
              "colab": {
                "custom_widget_manager": {
                  "url": "https://ssl.gstatic.com/colaboratory-static/widgets/colab-cdn-widget-manager/d2e234f7cc04bf79/manager.min.js"
                }
              }
            }
          }
        },
        {
          "output_type": "display_data",
          "data": {
            "text/plain": [
              "Viewer(geometries=[{'vtkClass': 'vtkPolyData', 'points': {'vtkClass': 'vtkPoints', 'name': '_points', 'numberO…"
            ],
            "application/vnd.jupyter.widget-view+json": {
              "version_major": 2,
              "version_minor": 0,
              "model_id": "dfad4c02f3fa4b579acd2a9704bfe8b0"
            }
          },
          "metadata": {
            "application/vnd.jupyter.widget-view+json": {
              "colab": {
                "custom_widget_manager": {
                  "url": "https://ssl.gstatic.com/colaboratory-static/widgets/colab-cdn-widget-manager/d2e234f7cc04bf79/manager.min.js"
                }
              }
            }
          }
        }
      ],
      "id": "nsLVYr1fSiKZ"
    },
    {
      "cell_type": "code",
      "source": [
        "# Define a set of elements for a vector field.\n",
        "W = dolfinx.fem.VectorFunctionSpace(mesh, (\"Lagrange\", 2))\n",
        "E = dolfinx.fem.Function(W)\n",
        "\n",
        "# Compute the gradient as a symbolic expression, then interpolate it onto the mesh.\n",
        "expr = dolfinx.fem.Expression(ufl.as_vector((-phi.dx(0), -phi.dx(1))), W.element.interpolation_points())\n",
        "E.interpolate(expr)"
      ],
      "metadata": {
        "id": "NvvIw5Is85Bz"
      },
      "id": "NvvIw5Is85Bz",
      "execution_count": 129,
      "outputs": []
    },
    {
      "cell_type": "code",
      "source": [
        "# Use multiphenics to plot the vector field.\n",
        "multiphenicsx.io.plot_vector_field(E,name=\"Electric Field\", glyph_factor=1e-2)"
      ],
      "metadata": {
        "id": "ZXvRgHo87tnb",
        "colab": {
          "base_uri": "https://localhost:8080/",
          "height": 717,
          "referenced_widgets": [
            "d239f442ddaf42339053934bde2771e2",
            "3f3de8abba9f4054b5d6cd3951f0b6cf"
          ]
        },
        "outputId": "a41acbf7-837c-4120-8b22-9d9200e825c5"
      },
      "id": "ZXvRgHo87tnb",
      "execution_count": 130,
      "outputs": [
        {
          "output_type": "display_data",
          "data": {
            "text/plain": [
              "Viewer(geometries=[{'vtkClass': 'vtkPolyData', 'points': {'vtkClass': 'vtkPoints', 'name': '_points', 'numberO…"
            ],
            "application/vnd.jupyter.widget-view+json": {
              "version_major": 2,
              "version_minor": 0,
              "model_id": "d239f442ddaf42339053934bde2771e2"
            }
          },
          "metadata": {
            "application/vnd.jupyter.widget-view+json": {
              "colab": {
                "custom_widget_manager": {
                  "url": "https://ssl.gstatic.com/colaboratory-static/widgets/colab-cdn-widget-manager/d2e234f7cc04bf79/manager.min.js"
                }
              }
            }
          }
        },
        {
          "output_type": "display_data",
          "data": {
            "text/plain": [
              "Viewer(geometries=[{'vtkClass': 'vtkPolyData', 'points': {'vtkClass': 'vtkPoints', 'name': '_points', 'numberO…"
            ],
            "application/vnd.jupyter.widget-view+json": {
              "version_major": 2,
              "version_minor": 0,
              "model_id": "d239f442ddaf42339053934bde2771e2"
            }
          },
          "metadata": {
            "application/vnd.jupyter.widget-view+json": {
              "colab": {
                "custom_widget_manager": {
                  "url": "https://ssl.gstatic.com/colaboratory-static/widgets/colab-cdn-widget-manager/d2e234f7cc04bf79/manager.min.js"
                }
              }
            }
          }
        }
      ]
    },
    {
      "cell_type": "markdown",
      "source": [
        "# Experiments\n",
        "\n"
      ],
      "metadata": {
        "id": "eSBL-flUfBfN"
      },
      "id": "eSBL-flUfBfN"
    },
    {
      "cell_type": "markdown",
      "source": [
        "## 1. Three Grounded Walls\n",
        "\n",
        "- Create a square: Set the length and width to be equal.\n",
        "- Set all boundaries to be essential.\n",
        "- Set the potentials as follows:\n",
        "  - $V_1=2.0$\n",
        "  - $V_2=0.0$\n",
        "  - $V_3=0.0$\n",
        "  - $V_4=0.0$\n",
        "\n",
        "Run the model and FEM cells above.  Explore the output.\n",
        "\n",
        "- Describe the geometry.\n",
        "- Describe the potential.\n",
        "- Describe the electric field.\n",
        "\n",
        "Try to explain the features you see in the potential and field."
      ],
      "metadata": {
        "id": "mF_oyM8kfF1Z"
      },
      "id": "mF_oyM8kfF1Z"
    },
    {
      "cell_type": "markdown",
      "source": [
        "The geometry is represented as a square with a triangular mesh. \n",
        "The porential looks like a square whenever its looked at from a 2D direction, once rotated it looks like a piece of printer paper folded over a bent pipe, like could be found in a U trap under a sink. \n",
        "The electric field is the most interesting to me, as the magnitude starts off large, but quickly attenuates to an assortment of small arrows, which all point in a circular diretion between the two points. its like 2 seperate swirls of arrows, surrounding the charges, where directly between them, the arrows point straight, having the swirl cancelled by the symmetry of the sides. "
      ],
      "metadata": {
        "id": "7K49Vtd_g_aJ"
      },
      "id": "7K49Vtd_g_aJ"
    },
    {
      "cell_type": "markdown",
      "source": [
        "## 2. Two Grounded Walls\n",
        "\n",
        "- Create a square: Set the length and width to be equal.\n",
        "- Set all boundaries to be essential.\n",
        "- Set the potentials as follows:\n",
        "  - $V_1=2.0$\n",
        "  - $V_2=0.0$\n",
        "  - $V_3=2.0$\n",
        "  - $V_4=0.0$\n",
        "\n",
        "This will set the potential on opposite sides of the square equal to 2.0.\n",
        "\n",
        "***Make a prediction before you run the simulation.***  How do you think the potential will change compared to Experiment 1?  What will be the shape of the potential?\n",
        "\n",
        "Run the model and FEM cells above.  Explore the output.\n",
        "\n",
        "- Describe the geometry.\n",
        "- Describe the potential.\n",
        "- Describe the electric field.\n",
        "\n",
        "Try to explain the features you see in the potential and field."
      ],
      "metadata": {
        "id": "XD9FzOzYhlpR"
      },
      "id": "XD9FzOzYhlpR"
    },
    {
      "cell_type": "markdown",
      "source": [
        "My prediction is that the potential and electric field will look as if you cut the square in half between the side with potential and the other side, copy the side with potential, rotate it 180 degrees and paste it to its copy. I expect it to be a mirror image. \n",
        "\n",
        "After running it, my guess was close, however, there were some differences. The potential looked like I expected, forming a shape that looks like I predicted, however, the electric field did not. The magnitudes of the arrows were all identical, but the direction of one of the corners did not match the others. 3 of the 4 all appear, with respet to the X if X is horizontal pointing to the right, to be around 25 degrees upwards. The 4th one however, is closer to 75 degrees. This could be a mistake on my part, inputting a bad value, but i did check the results."
      ],
      "metadata": {
        "id": "ckYlRaSQnyeh"
      },
      "id": "ckYlRaSQnyeh"
    },
    {
      "cell_type": "markdown",
      "source": [
        "## 3. Natural Boundary Conditions\n",
        "\n",
        "- Create a square: Set the length and width to be equal.\n",
        "- Set boundaries 1, 2, and 4 to be essential.\n",
        "- Set boundary 3 to be natural.\n",
        "- Set the potentials as follows:\n",
        "  - $V_1=2.0$\n",
        "  - $V_2=0.0$\n",
        "  - $V_3=0.0$\n",
        "  - $V_4=0.0$\n",
        "\n",
        "Instead of fixing the value of the potential on the third wall, we are requiring the normal derivative to vanish.\n",
        "\n",
        "***Make a prediction before you run the simulation.***  How do you think the potential will change compared to Experiment 1?  What will be the shape of the potential?\n",
        "\n",
        "Run the model and FEM cells above.  Explore the output.\n",
        "\n",
        "- Describe the geometry.\n",
        "- Describe the potential.\n",
        "- Describe the electric field.\n",
        "\n",
        "Try to explain the features you see in the potential and field."
      ],
      "metadata": {
        "id": "PEqlju3Xhmm3"
      },
      "id": "PEqlju3Xhmm3"
    },
    {
      "cell_type": "markdown",
      "source": [
        "Everthing looks exactly the same as with the first experiment. There is no discernable difference between the two potentials or electric fields. I re ran this multiple times and had multuoke browser windows open to compare experiment 1 to this one, and i cannot see a difference."
      ],
      "metadata": {
        "id": "PKmvUlUqnzIr"
      },
      "id": "PKmvUlUqnzIr"
    },
    {
      "cell_type": "markdown",
      "source": [
        "## 4. Change the Shape\n",
        "\n",
        "Repeat Experiments 1, 2, and 3, but change the shape from a square to a rectangle.  Try a variety of shapes: for example, $L = 2W$, $L = 100W$, $W=20L$, etc.\n",
        "\n",
        "In each case, describe what changes, compared to the square."
      ],
      "metadata": {
        "id": "AF6aysbphnD0"
      },
      "id": "AF6aysbphnD0"
    },
    {
      "cell_type": "markdown",
      "source": [
        "***Replace with your response.***"
      ],
      "metadata": {
        "id": "8HOS6dc9n0r7"
      },
      "id": "8HOS6dc9n0r7"
    },
    {
      "cell_type": "markdown",
      "source": [
        "## 5. Change the Boundary Conditions\n",
        "\n",
        "Repeat Experiment 1, then explore the effect of changing the boundary conditions.  Change some of the potentials on the four walls.  Change some of the boundary conditions from essential to natural.\n",
        "\n",
        "***Describe your experiments and your findings below.***"
      ],
      "metadata": {
        "id": "sAQbrqTplTNL"
      },
      "id": "sAQbrqTplTNL"
    },
    {
      "cell_type": "markdown",
      "source": [],
      "metadata": {
        "id": "iYn_ca28n2JU"
      },
      "id": "iYn_ca28n2JU"
    },
    {
      "cell_type": "markdown",
      "source": [
        "## Challenge: Charge in a Box\n",
        "\n",
        "In the space below, try to merge commands from this notebook and Notebook 6 to add a charge to the box, compute the potential, and plot the potential and field in the system."
      ],
      "metadata": {
        "id": "S9343n5wmE-f"
      },
      "id": "S9343n5wmE-f"
    },
    {
      "cell_type": "markdown",
      "source": [
        "***Replace with your notes.***"
      ],
      "metadata": {
        "id": "3a5JwL7cn_BA"
      },
      "id": "3a5JwL7cn_BA"
    },
    {
      "cell_type": "code",
      "source": [
        "## Replace with your code."
      ],
      "metadata": {
        "id": "dstBIHu2gAAR"
      },
      "id": "dstBIHu2gAAR",
      "execution_count": 131,
      "outputs": []
    },
    {
      "cell_type": "markdown",
      "source": [
        "# Reflection and Summary\n",
        "\n",
        "- What are the major takeaways of this assignment for you?\n",
        "- What was the most difficult part of this assignment?\n",
        "- What was the most interesting part of this assignment?\n",
        "- What questions do you have?"
      ],
      "metadata": {
        "id": "iDv7icuFLOnS"
      },
      "id": "iDv7icuFLOnS"
    },
    {
      "cell_type": "markdown",
      "source": [
        "***Replace with your response.***"
      ],
      "metadata": {
        "id": "8BVAlbFlLbRp"
      },
      "id": "8BVAlbFlLbRp"
    }
  ],
  "metadata": {
    "kernelspec": {
      "display_name": "Python 3 (ipykernel)",
      "language": "python",
      "name": "python3"
    },
    "language_info": {
      "codemirror_mode": {
        "name": "ipython"
      },
      "file_extension": ".py",
      "mimetype": "text/x-python",
      "name": "python",
      "nbconvert_exporter": "python"
    },
    "colab": {
      "provenance": [],
      "include_colab_link": true
    },
    "widgets": {
      "application/vnd.jupyter.widget-state+json": {
        "8c6ac2754cf6412cac2638de7cb568ff": {
          "model_module": "itkwidgets",
          "model_name": "ViewerModel",
          "model_module_version": "^0.32.3",
          "state": {
            "_custom_cmap": null,
            "_dom_classes": [],
            "_downsampling": false,
            "_largest_roi": {
              "shape": [
                2,
                3
              ],
              "dtype": "float64"
            },
            "_model_module": "itkwidgets",
            "_model_module_version": "^0.32.3",
            "_model_name": "ViewerModel",
            "_rendering_image": false,
            "_reset_crop_requested": false,
            "_scale_factors": {
              "shape": [
                3
              ],
              "dtype": "uint8"
            },
            "_view_count": null,
            "_view_module": "itkwidgets",
            "_view_module_version": "^0.32.3",
            "_view_name": "ViewerView",
            "annotations": true,
            "axes": false,
            "background": [
              0.2196078431372549,
              0.2196078431372549,
              0.2196078431372549
            ],
            "blend_mode": "composite",
            "camera": {
              "shape": [
                3,
                3
              ],
              "dtype": "float32"
            },
            "channels": [],
            "clicked_slice_point": null,
            "cmap": null,
            "geometries": [
              {
                "vtkClass": "vtkPolyData",
                "points": {
                  "vtkClass": "vtkPoints",
                  "name": "_points",
                  "numberOfComponents": 3,
                  "dataType": "Float32Array",
                  "size": 1542
                },
                "polys": {
                  "vtkClass": "vtkCellArray",
                  "name": "_polys",
                  "numberOfComponents": 1,
                  "size": 3784,
                  "dataType": "Uint32Array"
                },
                "metadata": {
                  "name": "Geometry 0"
                }
              }
            ],
            "geometry_colors": {
              "shape": [
                1,
                3
              ],
              "dtype": "float32"
            },
            "geometry_opacities": {
              "shape": [
                1
              ],
              "dtype": "float32"
            },
            "gradient_opacity": 0.2,
            "interpolation": true,
            "label_image_blend": 0.5,
            "label_image_names": null,
            "label_image_weights": null,
            "layout": "IPY_MODEL_3751c92a86544d029a7b4478ef96e8f0",
            "lut": "glasbey",
            "mode": "v",
            "opacity_gaussians": null,
            "point_set_colors": {
              "shape": [
                0,
                3
              ],
              "dtype": "float32"
            },
            "point_set_opacities": {
              "shape": [
                0
              ],
              "dtype": "float32"
            },
            "point_set_representations": [],
            "point_set_sizes": {
              "shape": [
                0
              ],
              "dtype": "uint8"
            },
            "point_sets": [],
            "rendered_image": null,
            "rendered_label_image": null,
            "roi": {
              "shape": [
                2,
                3
              ],
              "dtype": "float64"
            },
            "rotate": false,
            "sample_distance": 0.25,
            "select_roi": false,
            "shadow": true,
            "slicing_planes": false,
            "ui_collapsed": true,
            "units": "",
            "vmax": null,
            "vmin": null,
            "x_slice": null,
            "y_slice": null,
            "z_slice": null
          }
        },
        "3751c92a86544d029a7b4478ef96e8f0": {
          "model_module": "@jupyter-widgets/base",
          "model_name": "LayoutModel",
          "model_module_version": "1.2.0",
          "state": {
            "_model_module": "@jupyter-widgets/base",
            "_model_module_version": "1.2.0",
            "_model_name": "LayoutModel",
            "_view_count": null,
            "_view_module": "@jupyter-widgets/base",
            "_view_module_version": "1.2.0",
            "_view_name": "LayoutView",
            "align_content": null,
            "align_items": null,
            "align_self": null,
            "border": null,
            "bottom": null,
            "display": null,
            "flex": null,
            "flex_flow": null,
            "grid_area": null,
            "grid_auto_columns": null,
            "grid_auto_flow": null,
            "grid_auto_rows": null,
            "grid_column": null,
            "grid_gap": null,
            "grid_row": null,
            "grid_template_areas": null,
            "grid_template_columns": null,
            "grid_template_rows": null,
            "height": null,
            "justify_content": null,
            "justify_items": null,
            "left": null,
            "margin": null,
            "max_height": null,
            "max_width": null,
            "min_height": null,
            "min_width": null,
            "object_fit": null,
            "object_position": null,
            "order": null,
            "overflow": null,
            "overflow_x": null,
            "overflow_y": null,
            "padding": null,
            "right": null,
            "top": null,
            "visibility": null,
            "width": null
          }
        },
        "f6cdd2a59b734d3d80da8e8bf946ed6d": {
          "model_module": "itkwidgets",
          "model_name": "ViewerModel",
          "model_module_version": "^0.32.3",
          "state": {
            "_custom_cmap": null,
            "_dom_classes": [],
            "_downsampling": false,
            "_largest_roi": {
              "shape": [
                2,
                3
              ],
              "dtype": "float64"
            },
            "_model_module": "itkwidgets",
            "_model_module_version": "^0.32.3",
            "_model_name": "ViewerModel",
            "_rendering_image": false,
            "_reset_crop_requested": false,
            "_scale_factors": {
              "shape": [
                3
              ],
              "dtype": "uint8"
            },
            "_view_count": null,
            "_view_module": "itkwidgets",
            "_view_module_version": "^0.32.3",
            "_view_name": "ViewerView",
            "annotations": true,
            "axes": false,
            "background": [
              0.2196078431372549,
              0.2196078431372549,
              0.2196078431372549
            ],
            "blend_mode": "composite",
            "camera": {
              "shape": [
                3,
                3
              ],
              "dtype": "float32"
            },
            "channels": [],
            "clicked_slice_point": null,
            "cmap": null,
            "geometries": [
              {
                "vtkClass": "vtkPolyData",
                "points": {
                  "vtkClass": "vtkPoints",
                  "name": "_points",
                  "numberOfComponents": 3,
                  "dataType": "Float32Array",
                  "size": 1542
                },
                "polys": {
                  "vtkClass": "vtkCellArray",
                  "name": "_polys",
                  "numberOfComponents": 1,
                  "size": 3784,
                  "dataType": "Uint32Array"
                },
                "cellData": {
                  "vtkClass": "vtkDataSetAttributes",
                  "activeScalars": 0,
                  "arrays": [
                    {
                      "data": {
                        "vtkClass": "vtkDataArray",
                        "name": "Subdomains",
                        "numberOfComponents": 1,
                        "size": 946,
                        "dataType": "Float64Array"
                      }
                    }
                  ]
                },
                "metadata": {
                  "name": "Geometry 0"
                }
              }
            ],
            "geometry_colors": {
              "shape": [
                1,
                3
              ],
              "dtype": "float32"
            },
            "geometry_opacities": {
              "shape": [
                1
              ],
              "dtype": "float32"
            },
            "gradient_opacity": 0.2,
            "interpolation": true,
            "label_image_blend": 0.5,
            "label_image_names": null,
            "label_image_weights": null,
            "layout": "IPY_MODEL_789690da3f0e4661b69bde15f7825c8f",
            "lut": "glasbey",
            "mode": "v",
            "opacity_gaussians": null,
            "point_set_colors": {
              "shape": [
                0,
                3
              ],
              "dtype": "float32"
            },
            "point_set_opacities": {
              "shape": [
                0
              ],
              "dtype": "float32"
            },
            "point_set_representations": [],
            "point_set_sizes": {
              "shape": [
                0
              ],
              "dtype": "uint8"
            },
            "point_sets": [],
            "rendered_image": null,
            "rendered_label_image": null,
            "roi": {
              "shape": [
                2,
                3
              ],
              "dtype": "float64"
            },
            "rotate": false,
            "sample_distance": 0.25,
            "select_roi": false,
            "shadow": true,
            "slicing_planes": false,
            "ui_collapsed": true,
            "units": "",
            "vmax": null,
            "vmin": null,
            "x_slice": null,
            "y_slice": null,
            "z_slice": null
          }
        },
        "789690da3f0e4661b69bde15f7825c8f": {
          "model_module": "@jupyter-widgets/base",
          "model_name": "LayoutModel",
          "model_module_version": "1.2.0",
          "state": {
            "_model_module": "@jupyter-widgets/base",
            "_model_module_version": "1.2.0",
            "_model_name": "LayoutModel",
            "_view_count": null,
            "_view_module": "@jupyter-widgets/base",
            "_view_module_version": "1.2.0",
            "_view_name": "LayoutView",
            "align_content": null,
            "align_items": null,
            "align_self": null,
            "border": null,
            "bottom": null,
            "display": null,
            "flex": null,
            "flex_flow": null,
            "grid_area": null,
            "grid_auto_columns": null,
            "grid_auto_flow": null,
            "grid_auto_rows": null,
            "grid_column": null,
            "grid_gap": null,
            "grid_row": null,
            "grid_template_areas": null,
            "grid_template_columns": null,
            "grid_template_rows": null,
            "height": null,
            "justify_content": null,
            "justify_items": null,
            "left": null,
            "margin": null,
            "max_height": null,
            "max_width": null,
            "min_height": null,
            "min_width": null,
            "object_fit": null,
            "object_position": null,
            "order": null,
            "overflow": null,
            "overflow_x": null,
            "overflow_y": null,
            "padding": null,
            "right": null,
            "top": null,
            "visibility": null,
            "width": null
          }
        },
        "0783efc877e24a06b8a06a3db06c363b": {
          "model_module": "itkwidgets",
          "model_name": "ViewerModel",
          "model_module_version": "^0.32.3",
          "state": {
            "_custom_cmap": null,
            "_dom_classes": [],
            "_downsampling": false,
            "_largest_roi": {
              "shape": [
                2,
                3
              ],
              "dtype": "float64"
            },
            "_model_module": "itkwidgets",
            "_model_module_version": "^0.32.3",
            "_model_name": "ViewerModel",
            "_rendering_image": false,
            "_reset_crop_requested": false,
            "_scale_factors": {
              "shape": [
                3
              ],
              "dtype": "uint8"
            },
            "_view_count": null,
            "_view_module": "itkwidgets",
            "_view_module_version": "^0.32.3",
            "_view_name": "ViewerView",
            "annotations": true,
            "axes": false,
            "background": [
              0.2196078431372549,
              0.2196078431372549,
              0.2196078431372549
            ],
            "blend_mode": "composite",
            "camera": {
              "shape": [
                3,
                3
              ],
              "dtype": "float32"
            },
            "channels": [],
            "clicked_slice_point": null,
            "cmap": null,
            "geometries": [
              {
                "vtkClass": "vtkPolyData",
                "points": {
                  "vtkClass": "vtkPoints",
                  "name": "_points",
                  "numberOfComponents": 3,
                  "dataType": "Float32Array",
                  "size": 1542
                },
                "lines": {
                  "vtkClass": "vtkCellArray",
                  "name": "_lines",
                  "numberOfComponents": 1,
                  "size": 4377,
                  "dataType": "Uint32Array"
                },
                "cellData": {
                  "vtkClass": "vtkDataSetAttributes",
                  "activeScalars": 0,
                  "arrays": [
                    {
                      "data": {
                        "vtkClass": "vtkDataArray",
                        "name": "Boundaries",
                        "numberOfComponents": 1,
                        "size": 1459,
                        "dataType": "Float64Array"
                      }
                    }
                  ]
                },
                "metadata": {
                  "name": "Geometry 0"
                }
              }
            ],
            "geometry_colors": {
              "shape": [
                1,
                3
              ],
              "dtype": "float32"
            },
            "geometry_opacities": {
              "shape": [
                1
              ],
              "dtype": "float32"
            },
            "gradient_opacity": 0.2,
            "interpolation": true,
            "label_image_blend": 0.5,
            "label_image_names": null,
            "label_image_weights": null,
            "layout": "IPY_MODEL_fc1a478604b643d2b838354bceb2ef39",
            "lut": "glasbey",
            "mode": "v",
            "opacity_gaussians": null,
            "point_set_colors": {
              "shape": [
                0,
                3
              ],
              "dtype": "float32"
            },
            "point_set_opacities": {
              "shape": [
                0
              ],
              "dtype": "float32"
            },
            "point_set_representations": [],
            "point_set_sizes": {
              "shape": [
                0
              ],
              "dtype": "uint8"
            },
            "point_sets": [],
            "rendered_image": null,
            "rendered_label_image": null,
            "roi": {
              "shape": [
                2,
                3
              ],
              "dtype": "float64"
            },
            "rotate": false,
            "sample_distance": 0.25,
            "select_roi": false,
            "shadow": true,
            "slicing_planes": false,
            "ui_collapsed": true,
            "units": "",
            "vmax": null,
            "vmin": null,
            "x_slice": null,
            "y_slice": null,
            "z_slice": null
          }
        },
        "fc1a478604b643d2b838354bceb2ef39": {
          "model_module": "@jupyter-widgets/base",
          "model_name": "LayoutModel",
          "model_module_version": "1.2.0",
          "state": {
            "_model_module": "@jupyter-widgets/base",
            "_model_module_version": "1.2.0",
            "_model_name": "LayoutModel",
            "_view_count": null,
            "_view_module": "@jupyter-widgets/base",
            "_view_module_version": "1.2.0",
            "_view_name": "LayoutView",
            "align_content": null,
            "align_items": null,
            "align_self": null,
            "border": null,
            "bottom": null,
            "display": null,
            "flex": null,
            "flex_flow": null,
            "grid_area": null,
            "grid_auto_columns": null,
            "grid_auto_flow": null,
            "grid_auto_rows": null,
            "grid_column": null,
            "grid_gap": null,
            "grid_row": null,
            "grid_template_areas": null,
            "grid_template_columns": null,
            "grid_template_rows": null,
            "height": null,
            "justify_content": null,
            "justify_items": null,
            "left": null,
            "margin": null,
            "max_height": null,
            "max_width": null,
            "min_height": null,
            "min_width": null,
            "object_fit": null,
            "object_position": null,
            "order": null,
            "overflow": null,
            "overflow_x": null,
            "overflow_y": null,
            "padding": null,
            "right": null,
            "top": null,
            "visibility": null,
            "width": null
          }
        },
        "8b7d00258607422e90ee3fc9a4bb3dfc": {
          "model_module": "itkwidgets",
          "model_name": "ViewerModel",
          "model_module_version": "^0.32.3",
          "state": {
            "_custom_cmap": null,
            "_dom_classes": [],
            "_downsampling": false,
            "_largest_roi": {
              "shape": [
                2,
                3
              ],
              "dtype": "float64"
            },
            "_model_module": "itkwidgets",
            "_model_module_version": "^0.32.3",
            "_model_name": "ViewerModel",
            "_rendering_image": false,
            "_reset_crop_requested": false,
            "_scale_factors": {
              "shape": [
                3
              ],
              "dtype": "uint8"
            },
            "_view_count": null,
            "_view_module": "itkwidgets",
            "_view_module_version": "^0.32.3",
            "_view_name": "ViewerView",
            "annotations": true,
            "axes": false,
            "background": [],
            "blend_mode": "composite",
            "camera": {
              "shape": [
                3,
                3
              ],
              "dtype": "float32"
            },
            "channels": null,
            "clicked_slice_point": null,
            "cmap": null,
            "geometries": [
              {
                "vtkClass": "vtkPolyData",
                "points": {
                  "vtkClass": "vtkPoints",
                  "name": "_points",
                  "numberOfComponents": 3,
                  "dataType": "Float32Array",
                  "size": 1542
                },
                "lines": {
                  "vtkClass": "vtkCellArray",
                  "name": "_lines",
                  "numberOfComponents": 1,
                  "size": 4377,
                  "dataType": "Uint32Array"
                },
                "cellData": {
                  "vtkClass": "vtkDataSetAttributes",
                  "activeScalars": 0,
                  "arrays": [
                    {
                      "data": {
                        "vtkClass": "vtkDataArray",
                        "name": "Boundaries",
                        "numberOfComponents": 1,
                        "size": 1459,
                        "dataType": "Float64Array"
                      }
                    }
                  ]
                },
                "metadata": {
                  "name": "Geometry 0"
                }
              }
            ],
            "geometry_colors": {
              "shape": [
                1,
                3
              ],
              "dtype": "float32"
            },
            "geometry_opacities": {
              "shape": [
                1
              ],
              "dtype": "float32"
            },
            "gradient_opacity": 0.2,
            "interpolation": true,
            "label_image_blend": 0.5,
            "label_image_names": null,
            "label_image_weights": null,
            "layout": "IPY_MODEL_d8cdad651a8d4173a33a07d55b9d17fe",
            "lut": "glasbey",
            "mode": "v",
            "opacity_gaussians": null,
            "point_set_colors": {
              "shape": [
                0,
                3
              ],
              "dtype": "float32"
            },
            "point_set_opacities": {
              "shape": [
                0
              ],
              "dtype": "float32"
            },
            "point_set_representations": [],
            "point_set_sizes": {
              "shape": [
                0
              ],
              "dtype": "uint8"
            },
            "point_sets": [],
            "rendered_image": null,
            "rendered_label_image": null,
            "roi": {
              "shape": [
                2,
                3
              ],
              "dtype": "float64"
            },
            "rotate": false,
            "sample_distance": 0.25,
            "select_roi": false,
            "shadow": true,
            "slicing_planes": false,
            "ui_collapsed": true,
            "units": "",
            "vmax": null,
            "vmin": null,
            "x_slice": null,
            "y_slice": null,
            "z_slice": null
          }
        },
        "d8cdad651a8d4173a33a07d55b9d17fe": {
          "model_module": "@jupyter-widgets/base",
          "model_name": "LayoutModel",
          "model_module_version": "1.2.0",
          "state": {
            "_model_module": "@jupyter-widgets/base",
            "_model_module_version": "1.2.0",
            "_model_name": "LayoutModel",
            "_view_count": null,
            "_view_module": "@jupyter-widgets/base",
            "_view_module_version": "1.2.0",
            "_view_name": "LayoutView",
            "align_content": null,
            "align_items": null,
            "align_self": null,
            "border": null,
            "bottom": null,
            "display": null,
            "flex": null,
            "flex_flow": null,
            "grid_area": null,
            "grid_auto_columns": null,
            "grid_auto_flow": null,
            "grid_auto_rows": null,
            "grid_column": null,
            "grid_gap": null,
            "grid_row": null,
            "grid_template_areas": null,
            "grid_template_columns": null,
            "grid_template_rows": null,
            "height": null,
            "justify_content": null,
            "justify_items": null,
            "left": null,
            "margin": null,
            "max_height": null,
            "max_width": null,
            "min_height": null,
            "min_width": null,
            "object_fit": null,
            "object_position": null,
            "order": null,
            "overflow": null,
            "overflow_x": null,
            "overflow_y": null,
            "padding": null,
            "right": null,
            "top": null,
            "visibility": null,
            "width": null
          }
        },
        "dfad4c02f3fa4b579acd2a9704bfe8b0": {
          "model_module": "itkwidgets",
          "model_name": "ViewerModel",
          "model_module_version": "^0.32.3",
          "state": {
            "_custom_cmap": null,
            "_dom_classes": [],
            "_downsampling": false,
            "_largest_roi": {
              "shape": [
                2,
                3
              ],
              "dtype": "float64"
            },
            "_model_module": "itkwidgets",
            "_model_module_version": "^0.32.3",
            "_model_name": "ViewerModel",
            "_rendering_image": false,
            "_reset_crop_requested": false,
            "_scale_factors": {
              "shape": [
                3
              ],
              "dtype": "uint8"
            },
            "_view_count": null,
            "_view_module": "itkwidgets",
            "_view_module_version": "^0.32.3",
            "_view_name": "ViewerView",
            "annotations": true,
            "axes": false,
            "background": [
              0.2196078431372549,
              0.2196078431372549,
              0.2196078431372549
            ],
            "blend_mode": "composite",
            "camera": {
              "shape": [
                3,
                3
              ],
              "dtype": "float32"
            },
            "channels": [],
            "clicked_slice_point": null,
            "cmap": null,
            "geometries": [
              {
                "vtkClass": "vtkPolyData",
                "points": {
                  "vtkClass": "vtkPoints",
                  "name": "_points",
                  "numberOfComponents": 3,
                  "dataType": "Float32Array",
                  "size": 5919
                },
                "polys": {
                  "vtkClass": "vtkCellArray",
                  "name": "_polys",
                  "numberOfComponents": 1,
                  "size": 15136,
                  "dataType": "Uint32Array"
                },
                "pointData": {
                  "vtkClass": "vtkDataSetAttributes",
                  "activeScalars": 0,
                  "arrays": [
                    {
                      "data": {
                        "vtkClass": "vtkDataArray",
                        "name": "Potential",
                        "numberOfComponents": 1,
                        "size": 1973,
                        "dataType": "Float64Array"
                      }
                    }
                  ]
                },
                "metadata": {
                  "name": "Geometry 0"
                }
              }
            ],
            "geometry_colors": {
              "shape": [
                1,
                3
              ],
              "dtype": "float32"
            },
            "geometry_opacities": {
              "shape": [
                1
              ],
              "dtype": "float32"
            },
            "gradient_opacity": 0.2,
            "interpolation": true,
            "label_image_blend": 0.5,
            "label_image_names": null,
            "label_image_weights": null,
            "layout": "IPY_MODEL_3266f8e717fe4eefab7a79ec9eb221a2",
            "lut": "glasbey",
            "mode": "v",
            "opacity_gaussians": null,
            "point_set_colors": {
              "shape": [
                0,
                3
              ],
              "dtype": "float32"
            },
            "point_set_opacities": {
              "shape": [
                0
              ],
              "dtype": "float32"
            },
            "point_set_representations": [],
            "point_set_sizes": {
              "shape": [
                0
              ],
              "dtype": "uint8"
            },
            "point_sets": [],
            "rendered_image": null,
            "rendered_label_image": null,
            "roi": {
              "shape": [
                2,
                3
              ],
              "dtype": "float64"
            },
            "rotate": false,
            "sample_distance": 0.25,
            "select_roi": false,
            "shadow": true,
            "slicing_planes": false,
            "ui_collapsed": true,
            "units": "",
            "vmax": null,
            "vmin": null,
            "x_slice": null,
            "y_slice": null,
            "z_slice": null
          }
        },
        "3266f8e717fe4eefab7a79ec9eb221a2": {
          "model_module": "@jupyter-widgets/base",
          "model_name": "LayoutModel",
          "model_module_version": "1.2.0",
          "state": {
            "_model_module": "@jupyter-widgets/base",
            "_model_module_version": "1.2.0",
            "_model_name": "LayoutModel",
            "_view_count": null,
            "_view_module": "@jupyter-widgets/base",
            "_view_module_version": "1.2.0",
            "_view_name": "LayoutView",
            "align_content": null,
            "align_items": null,
            "align_self": null,
            "border": null,
            "bottom": null,
            "display": null,
            "flex": null,
            "flex_flow": null,
            "grid_area": null,
            "grid_auto_columns": null,
            "grid_auto_flow": null,
            "grid_auto_rows": null,
            "grid_column": null,
            "grid_gap": null,
            "grid_row": null,
            "grid_template_areas": null,
            "grid_template_columns": null,
            "grid_template_rows": null,
            "height": null,
            "justify_content": null,
            "justify_items": null,
            "left": null,
            "margin": null,
            "max_height": null,
            "max_width": null,
            "min_height": null,
            "min_width": null,
            "object_fit": null,
            "object_position": null,
            "order": null,
            "overflow": null,
            "overflow_x": null,
            "overflow_y": null,
            "padding": null,
            "right": null,
            "top": null,
            "visibility": null,
            "width": null
          }
        },
        "d239f442ddaf42339053934bde2771e2": {
          "model_module": "itkwidgets",
          "model_name": "ViewerModel",
          "model_module_version": "^0.32.3",
          "state": {
            "_custom_cmap": null,
            "_dom_classes": [],
            "_downsampling": false,
            "_largest_roi": {
              "shape": [
                2,
                3
              ],
              "dtype": "float64"
            },
            "_model_module": "itkwidgets",
            "_model_module_version": "^0.32.3",
            "_model_name": "ViewerModel",
            "_rendering_image": false,
            "_reset_crop_requested": false,
            "_scale_factors": {
              "shape": [
                3
              ],
              "dtype": "uint8"
            },
            "_view_count": null,
            "_view_module": "itkwidgets",
            "_view_module_version": "^0.32.3",
            "_view_name": "ViewerView",
            "annotations": true,
            "axes": false,
            "background": [
              0.2196078431372549,
              0.2196078431372549,
              0.2196078431372549
            ],
            "blend_mode": "composite",
            "camera": {
              "shape": [
                3,
                3
              ],
              "dtype": "float32"
            },
            "channels": [],
            "clicked_slice_point": null,
            "cmap": null,
            "geometries": [
              {
                "vtkClass": "vtkPolyData",
                "points": {
                  "vtkClass": "vtkPoints",
                  "name": "_points",
                  "numberOfComponents": 3,
                  "dataType": "Float32Array",
                  "size": 183489
                },
                "polys": {
                  "vtkClass": "vtkCellArray",
                  "name": "_polys",
                  "numberOfComponents": 1,
                  "size": 147975,
                  "dataType": "Uint32Array"
                },
                "pointData": {
                  "vtkClass": "vtkDataSetAttributes",
                  "activeScalars": 0,
                  "activeVectors": 1,
                  "arrays": [
                    {
                      "data": {
                        "vtkClass": "vtkDataArray",
                        "name": "GlyphScale",
                        "numberOfComponents": 1,
                        "size": 61163,
                        "dataType": "Float32Array"
                      }
                    },
                    {
                      "data": {
                        "vtkClass": "vtkDataArray",
                        "name": "GlyphVector",
                        "numberOfComponents": 3,
                        "size": 183489,
                        "dataType": "Float32Array"
                      }
                    }
                  ]
                },
                "metadata": {
                  "name": "Geometry 0"
                }
              },
              {
                "vtkClass": "vtkPolyData",
                "points": {
                  "vtkClass": "vtkPoints",
                  "name": "_points",
                  "numberOfComponents": 3,
                  "dataType": "Float32Array",
                  "size": 1542
                },
                "lines": {
                  "vtkClass": "vtkCellArray",
                  "name": "_lines",
                  "numberOfComponents": 1,
                  "size": 4377,
                  "dataType": "Uint32Array"
                },
                "metadata": {
                  "name": "Geometry 1"
                }
              }
            ],
            "geometry_colors": {
              "shape": [
                2,
                3
              ],
              "dtype": "float32"
            },
            "geometry_opacities": {
              "shape": [
                2
              ],
              "dtype": "float32"
            },
            "gradient_opacity": 0.2,
            "interpolation": true,
            "label_image_blend": 0.5,
            "label_image_names": null,
            "label_image_weights": null,
            "layout": "IPY_MODEL_3f3de8abba9f4054b5d6cd3951f0b6cf",
            "lut": "glasbey",
            "mode": "v",
            "opacity_gaussians": null,
            "point_set_colors": {
              "shape": [
                0,
                3
              ],
              "dtype": "float32"
            },
            "point_set_opacities": {
              "shape": [
                0
              ],
              "dtype": "float32"
            },
            "point_set_representations": [],
            "point_set_sizes": {
              "shape": [
                0
              ],
              "dtype": "uint8"
            },
            "point_sets": [],
            "rendered_image": null,
            "rendered_label_image": null,
            "roi": {
              "shape": [
                2,
                3
              ],
              "dtype": "float64"
            },
            "rotate": false,
            "sample_distance": 0.25,
            "select_roi": false,
            "shadow": true,
            "slicing_planes": false,
            "ui_collapsed": true,
            "units": "",
            "vmax": null,
            "vmin": null,
            "x_slice": null,
            "y_slice": null,
            "z_slice": null
          }
        },
        "3f3de8abba9f4054b5d6cd3951f0b6cf": {
          "model_module": "@jupyter-widgets/base",
          "model_name": "LayoutModel",
          "model_module_version": "1.2.0",
          "state": {
            "_model_module": "@jupyter-widgets/base",
            "_model_module_version": "1.2.0",
            "_model_name": "LayoutModel",
            "_view_count": null,
            "_view_module": "@jupyter-widgets/base",
            "_view_module_version": "1.2.0",
            "_view_name": "LayoutView",
            "align_content": null,
            "align_items": null,
            "align_self": null,
            "border": null,
            "bottom": null,
            "display": null,
            "flex": null,
            "flex_flow": null,
            "grid_area": null,
            "grid_auto_columns": null,
            "grid_auto_flow": null,
            "grid_auto_rows": null,
            "grid_column": null,
            "grid_gap": null,
            "grid_row": null,
            "grid_template_areas": null,
            "grid_template_columns": null,
            "grid_template_rows": null,
            "height": null,
            "justify_content": null,
            "justify_items": null,
            "left": null,
            "margin": null,
            "max_height": null,
            "max_width": null,
            "min_height": null,
            "min_width": null,
            "object_fit": null,
            "object_position": null,
            "order": null,
            "overflow": null,
            "overflow_x": null,
            "overflow_y": null,
            "padding": null,
            "right": null,
            "top": null,
            "visibility": null,
            "width": null
          }
        }
      }
    }
  },
  "nbformat": 4,
  "nbformat_minor": 5
}